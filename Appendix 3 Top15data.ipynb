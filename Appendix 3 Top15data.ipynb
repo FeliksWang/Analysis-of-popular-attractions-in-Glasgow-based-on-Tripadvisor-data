{
 "cells": [
  {
   "cell_type": "code",
   "execution_count": 13,
   "metadata": {},
   "outputs": [],
   "source": [
    "import pandas as pd\n",
    "import numpy as np\n",
    "import string"
   ]
  },
  {
   "cell_type": "code",
   "execution_count": 14,
   "metadata": {},
   "outputs": [],
   "source": [
    "raw_13 = pd.read_csv('13_raw.csv')"
   ]
  },
  {
   "cell_type": "code",
   "execution_count": 15,
   "metadata": {},
   "outputs": [
    {
     "data": {
      "text/html": [
       "<div>\n",
       "<style scoped>\n",
       "    .dataframe tbody tr th:only-of-type {\n",
       "        vertical-align: middle;\n",
       "    }\n",
       "\n",
       "    .dataframe tbody tr th {\n",
       "        vertical-align: top;\n",
       "    }\n",
       "\n",
       "    .dataframe thead th {\n",
       "        text-align: right;\n",
       "    }\n",
       "</style>\n",
       "<table border=\"1\" class=\"dataframe\">\n",
       "  <thead>\n",
       "    <tr style=\"text-align: right;\">\n",
       "      <th></th>\n",
       "      <th>time</th>\n",
       "      <th>content</th>\n",
       "      <th>score</th>\n",
       "      <th>main</th>\n",
       "      <th>volume</th>\n",
       "      <th>vote</th>\n",
       "      <th>type</th>\n",
       "    </tr>\n",
       "  </thead>\n",
       "  <tbody>\n",
       "    <tr>\n",
       "      <th>0</th>\n",
       "      <td>The Hush-Hush Reviewer wrote a review Nov 2020</td>\n",
       "      <td>Busy busy even with Covid so that might put so...</td>\n",
       "      <td>&lt;span class=\"ui_bubble_rating bubble_40\"&gt;&lt;/span&gt;</td>\n",
       "      <td>Busy busy</td>\n",
       "      <td>661 contributions</td>\n",
       "      <td>242 helpful votes</td>\n",
       "      <td>Trip type: Traveled solo</td>\n",
       "    </tr>\n",
       "    <tr>\n",
       "      <th>1</th>\n",
       "      <td>Alex C wrote a review Nov 2020</td>\n",
       "      <td>Great shopping centre and plenty of bespoke sh...</td>\n",
       "      <td>&lt;span class=\"ui_bubble_rating bubble_50\"&gt;&lt;/span&gt;</td>\n",
       "      <td>Great shopping</td>\n",
       "      <td>67 contributions</td>\n",
       "      <td>69 helpful votes</td>\n",
       "      <td>Trip type: Traveled as a couple</td>\n",
       "    </tr>\n",
       "    <tr>\n",
       "      <th>2</th>\n",
       "      <td>Nishamanttey wrote a review Oct 2020</td>\n",
       "      <td>The street runs through the city center. A lot...</td>\n",
       "      <td>&lt;span class=\"ui_bubble_rating bubble_50\"&gt;&lt;/span&gt;</td>\n",
       "      <td>Hanging out</td>\n",
       "      <td>167 contributions</td>\n",
       "      <td>160 helpful votes</td>\n",
       "      <td>Trip type: Traveled solo</td>\n",
       "    </tr>\n",
       "    <tr>\n",
       "      <th>3</th>\n",
       "      <td>Malgorzata wrote a review Oct 2020</td>\n",
       "      <td>Buchanan Street is one of Glasgow's main comme...</td>\n",
       "      <td>&lt;span class=\"ui_bubble_rating bubble_40\"&gt;&lt;/span&gt;</td>\n",
       "      <td>Great shopping street</td>\n",
       "      <td>NaN</td>\n",
       "      <td>905 helpful votes</td>\n",
       "      <td>NaN</td>\n",
       "    </tr>\n",
       "    <tr>\n",
       "      <th>4</th>\n",
       "      <td>g h wrote a review Sep 2020</td>\n",
       "      <td>Buchanan Street was beautiful we walked up and...</td>\n",
       "      <td>&lt;span class=\"ui_bubble_rating bubble_50\"&gt;&lt;/span&gt;</td>\n",
       "      <td>beautiful street, the nicest we saw in Glasgow</td>\n",
       "      <td>83 contributions</td>\n",
       "      <td>1 helpful vote</td>\n",
       "      <td>NaN</td>\n",
       "    </tr>\n",
       "  </tbody>\n",
       "</table>\n",
       "</div>"
      ],
      "text/plain": [
       "                                             time  \\\n",
       "0  The Hush-Hush Reviewer wrote a review Nov 2020   \n",
       "1                  Alex C wrote a review Nov 2020   \n",
       "2            Nishamanttey wrote a review Oct 2020   \n",
       "3              Malgorzata wrote a review Oct 2020   \n",
       "4                     g h wrote a review Sep 2020   \n",
       "\n",
       "                                             content  \\\n",
       "0  Busy busy even with Covid so that might put so...   \n",
       "1  Great shopping centre and plenty of bespoke sh...   \n",
       "2  The street runs through the city center. A lot...   \n",
       "3  Buchanan Street is one of Glasgow's main comme...   \n",
       "4  Buchanan Street was beautiful we walked up and...   \n",
       "\n",
       "                                              score  \\\n",
       "0  <span class=\"ui_bubble_rating bubble_40\"></span>   \n",
       "1  <span class=\"ui_bubble_rating bubble_50\"></span>   \n",
       "2  <span class=\"ui_bubble_rating bubble_50\"></span>   \n",
       "3  <span class=\"ui_bubble_rating bubble_40\"></span>   \n",
       "4  <span class=\"ui_bubble_rating bubble_50\"></span>   \n",
       "\n",
       "                                             main             volume  \\\n",
       "0                                       Busy busy  661 contributions   \n",
       "1                                  Great shopping   67 contributions   \n",
       "2                                     Hanging out  167 contributions   \n",
       "3                           Great shopping street                NaN   \n",
       "4  beautiful street, the nicest we saw in Glasgow   83 contributions   \n",
       "\n",
       "                vote                             type  \n",
       "0  242 helpful votes         Trip type: Traveled solo  \n",
       "1   69 helpful votes  Trip type: Traveled as a couple  \n",
       "2  160 helpful votes         Trip type: Traveled solo  \n",
       "3  905 helpful votes                              NaN  \n",
       "4     1 helpful vote                              NaN  "
      ]
     },
     "execution_count": 15,
     "metadata": {},
     "output_type": "execute_result"
    }
   ],
   "source": [
    "raw_13.head()"
   ]
  },
  {
   "cell_type": "code",
   "execution_count": 16,
   "metadata": {},
   "outputs": [
    {
     "data": {
      "text/plain": [
       "(4035, 7)"
      ]
     },
     "execution_count": 16,
     "metadata": {},
     "output_type": "execute_result"
    }
   ],
   "source": [
    "raw_13.shape"
   ]
  },
  {
   "cell_type": "code",
   "execution_count": 17,
   "metadata": {},
   "outputs": [
    {
     "data": {
      "text/plain": [
       "time       object\n",
       "content    object\n",
       "score      object\n",
       "main       object\n",
       "volume     object\n",
       "vote       object\n",
       "type       object\n",
       "dtype: object"
      ]
     },
     "execution_count": 17,
     "metadata": {},
     "output_type": "execute_result"
    }
   ],
   "source": [
    "raw_13.dtypes"
   ]
  },
  {
   "cell_type": "code",
   "execution_count": 18,
   "metadata": {},
   "outputs": [
    {
     "data": {
      "text/html": [
       "<div>\n",
       "<style scoped>\n",
       "    .dataframe tbody tr th:only-of-type {\n",
       "        vertical-align: middle;\n",
       "    }\n",
       "\n",
       "    .dataframe tbody tr th {\n",
       "        vertical-align: top;\n",
       "    }\n",
       "\n",
       "    .dataframe thead th {\n",
       "        text-align: right;\n",
       "    }\n",
       "</style>\n",
       "<table border=\"1\" class=\"dataframe\">\n",
       "  <thead>\n",
       "    <tr style=\"text-align: right;\">\n",
       "      <th></th>\n",
       "      <th>time</th>\n",
       "      <th>content</th>\n",
       "      <th>score</th>\n",
       "      <th>main</th>\n",
       "      <th>volume</th>\n",
       "      <th>vote</th>\n",
       "      <th>type</th>\n",
       "    </tr>\n",
       "  </thead>\n",
       "  <tbody>\n",
       "    <tr>\n",
       "      <th>count</th>\n",
       "      <td>4035</td>\n",
       "      <td>4035</td>\n",
       "      <td>4035</td>\n",
       "      <td>4035</td>\n",
       "      <td>3611</td>\n",
       "      <td>3569</td>\n",
       "      <td>3540</td>\n",
       "    </tr>\n",
       "    <tr>\n",
       "      <th>unique</th>\n",
       "      <td>4028</td>\n",
       "      <td>4034</td>\n",
       "      <td>5</td>\n",
       "      <td>3136</td>\n",
       "      <td>753</td>\n",
       "      <td>379</td>\n",
       "      <td>5</td>\n",
       "    </tr>\n",
       "    <tr>\n",
       "      <th>top</th>\n",
       "      <td>David M wrote a review May 2017</td>\n",
       "      <td>Busy shopping street. Pedestrianised with lots...</td>\n",
       "      <td>&lt;span class=\"ui_bubble_rating bubble_50\"&gt;&lt;/span&gt;</td>\n",
       "      <td>Shopping</td>\n",
       "      <td>13 contributions</td>\n",
       "      <td>2 helpful votes</td>\n",
       "      <td>Trip type: Traveled as a couple</td>\n",
       "    </tr>\n",
       "    <tr>\n",
       "      <th>freq</th>\n",
       "      <td>2</td>\n",
       "      <td>2</td>\n",
       "      <td>2445</td>\n",
       "      <td>98</td>\n",
       "      <td>50</td>\n",
       "      <td>133</td>\n",
       "      <td>1380</td>\n",
       "    </tr>\n",
       "  </tbody>\n",
       "</table>\n",
       "</div>"
      ],
      "text/plain": [
       "                                   time  \\\n",
       "count                              4035   \n",
       "unique                             4028   \n",
       "top     David M wrote a review May 2017   \n",
       "freq                                  2   \n",
       "\n",
       "                                                  content  \\\n",
       "count                                                4035   \n",
       "unique                                               4034   \n",
       "top     Busy shopping street. Pedestrianised with lots...   \n",
       "freq                                                    2   \n",
       "\n",
       "                                                   score      main  \\\n",
       "count                                               4035      4035   \n",
       "unique                                                 5      3136   \n",
       "top     <span class=\"ui_bubble_rating bubble_50\"></span>  Shopping   \n",
       "freq                                                2445        98   \n",
       "\n",
       "                  volume             vote                             type  \n",
       "count               3611             3569                             3540  \n",
       "unique               753              379                                5  \n",
       "top     13 contributions  2 helpful votes  Trip type: Traveled as a couple  \n",
       "freq                  50              133                             1380  "
      ]
     },
     "execution_count": 18,
     "metadata": {},
     "output_type": "execute_result"
    }
   ],
   "source": [
    "raw_13.describe()"
   ]
  },
  {
   "cell_type": "code",
   "execution_count": 19,
   "metadata": {},
   "outputs": [],
   "source": [
    "username_time = raw_13['time'].str.split(' wrote a review ',expand=True)\n",
    "username_time.columns = ['name','date']\n",
    "raw_13['score'] = raw_13['score'].str.extract(r'(\\d+)',expand=False)\n",
    "raw_13['contribution'] = raw_13['volume'].str.extract(r'(\\d+)',expand=False)\n",
    "raw_13['vote'] = raw_13['vote'].str.extract(r'(\\d+)',expand=False)\n",
    "travel_type = raw_13['type'].str.split('Trip type: Traveled ',expand=True)\n",
    "travel_type.columns = ['useless','travel_type']"
   ]
  },
  {
   "cell_type": "code",
   "execution_count": 20,
   "metadata": {},
   "outputs": [],
   "source": [
    "raw_13 = pd.concat([username_time,raw_13,travel_type],axis=1)"
   ]
  },
  {
   "cell_type": "code",
   "execution_count": 21,
   "metadata": {},
   "outputs": [
    {
     "data": {
      "text/html": [
       "<div>\n",
       "<style scoped>\n",
       "    .dataframe tbody tr th:only-of-type {\n",
       "        vertical-align: middle;\n",
       "    }\n",
       "\n",
       "    .dataframe tbody tr th {\n",
       "        vertical-align: top;\n",
       "    }\n",
       "\n",
       "    .dataframe thead th {\n",
       "        text-align: right;\n",
       "    }\n",
       "</style>\n",
       "<table border=\"1\" class=\"dataframe\">\n",
       "  <thead>\n",
       "    <tr style=\"text-align: right;\">\n",
       "      <th></th>\n",
       "      <th>name</th>\n",
       "      <th>date</th>\n",
       "      <th>time</th>\n",
       "      <th>content</th>\n",
       "      <th>score</th>\n",
       "      <th>main</th>\n",
       "      <th>volume</th>\n",
       "      <th>vote</th>\n",
       "      <th>type</th>\n",
       "      <th>contribution</th>\n",
       "      <th>useless</th>\n",
       "      <th>travel_type</th>\n",
       "    </tr>\n",
       "  </thead>\n",
       "  <tbody>\n",
       "    <tr>\n",
       "      <th>0</th>\n",
       "      <td>The Hush-Hush Reviewer</td>\n",
       "      <td>Nov 2020</td>\n",
       "      <td>The Hush-Hush Reviewer wrote a review Nov 2020</td>\n",
       "      <td>Busy busy even with Covid so that might put so...</td>\n",
       "      <td>40</td>\n",
       "      <td>Busy busy</td>\n",
       "      <td>661 contributions</td>\n",
       "      <td>242</td>\n",
       "      <td>Trip type: Traveled solo</td>\n",
       "      <td>661</td>\n",
       "      <td></td>\n",
       "      <td>solo</td>\n",
       "    </tr>\n",
       "    <tr>\n",
       "      <th>1</th>\n",
       "      <td>Alex C</td>\n",
       "      <td>Nov 2020</td>\n",
       "      <td>Alex C wrote a review Nov 2020</td>\n",
       "      <td>Great shopping centre and plenty of bespoke sh...</td>\n",
       "      <td>50</td>\n",
       "      <td>Great shopping</td>\n",
       "      <td>67 contributions</td>\n",
       "      <td>69</td>\n",
       "      <td>Trip type: Traveled as a couple</td>\n",
       "      <td>67</td>\n",
       "      <td></td>\n",
       "      <td>as a couple</td>\n",
       "    </tr>\n",
       "    <tr>\n",
       "      <th>2</th>\n",
       "      <td>Nishamanttey</td>\n",
       "      <td>Oct 2020</td>\n",
       "      <td>Nishamanttey wrote a review Oct 2020</td>\n",
       "      <td>The street runs through the city center. A lot...</td>\n",
       "      <td>50</td>\n",
       "      <td>Hanging out</td>\n",
       "      <td>167 contributions</td>\n",
       "      <td>160</td>\n",
       "      <td>Trip type: Traveled solo</td>\n",
       "      <td>167</td>\n",
       "      <td></td>\n",
       "      <td>solo</td>\n",
       "    </tr>\n",
       "    <tr>\n",
       "      <th>3</th>\n",
       "      <td>Malgorzata</td>\n",
       "      <td>Oct 2020</td>\n",
       "      <td>Malgorzata wrote a review Oct 2020</td>\n",
       "      <td>Buchanan Street is one of Glasgow's main comme...</td>\n",
       "      <td>40</td>\n",
       "      <td>Great shopping street</td>\n",
       "      <td>NaN</td>\n",
       "      <td>905</td>\n",
       "      <td>NaN</td>\n",
       "      <td>NaN</td>\n",
       "      <td>NaN</td>\n",
       "      <td>NaN</td>\n",
       "    </tr>\n",
       "    <tr>\n",
       "      <th>4</th>\n",
       "      <td>g h</td>\n",
       "      <td>Sep 2020</td>\n",
       "      <td>g h wrote a review Sep 2020</td>\n",
       "      <td>Buchanan Street was beautiful we walked up and...</td>\n",
       "      <td>50</td>\n",
       "      <td>beautiful street, the nicest we saw in Glasgow</td>\n",
       "      <td>83 contributions</td>\n",
       "      <td>1</td>\n",
       "      <td>NaN</td>\n",
       "      <td>83</td>\n",
       "      <td>NaN</td>\n",
       "      <td>NaN</td>\n",
       "    </tr>\n",
       "  </tbody>\n",
       "</table>\n",
       "</div>"
      ],
      "text/plain": [
       "                     name      date  \\\n",
       "0  The Hush-Hush Reviewer  Nov 2020   \n",
       "1                  Alex C  Nov 2020   \n",
       "2            Nishamanttey  Oct 2020   \n",
       "3              Malgorzata  Oct 2020   \n",
       "4                     g h  Sep 2020   \n",
       "\n",
       "                                             time  \\\n",
       "0  The Hush-Hush Reviewer wrote a review Nov 2020   \n",
       "1                  Alex C wrote a review Nov 2020   \n",
       "2            Nishamanttey wrote a review Oct 2020   \n",
       "3              Malgorzata wrote a review Oct 2020   \n",
       "4                     g h wrote a review Sep 2020   \n",
       "\n",
       "                                             content score  \\\n",
       "0  Busy busy even with Covid so that might put so...    40   \n",
       "1  Great shopping centre and plenty of bespoke sh...    50   \n",
       "2  The street runs through the city center. A lot...    50   \n",
       "3  Buchanan Street is one of Glasgow's main comme...    40   \n",
       "4  Buchanan Street was beautiful we walked up and...    50   \n",
       "\n",
       "                                             main             volume vote  \\\n",
       "0                                       Busy busy  661 contributions  242   \n",
       "1                                  Great shopping   67 contributions   69   \n",
       "2                                     Hanging out  167 contributions  160   \n",
       "3                           Great shopping street                NaN  905   \n",
       "4  beautiful street, the nicest we saw in Glasgow   83 contributions    1   \n",
       "\n",
       "                              type contribution useless  travel_type  \n",
       "0         Trip type: Traveled solo          661                 solo  \n",
       "1  Trip type: Traveled as a couple           67          as a couple  \n",
       "2         Trip type: Traveled solo          167                 solo  \n",
       "3                              NaN          NaN     NaN          NaN  \n",
       "4                              NaN           83     NaN          NaN  "
      ]
     },
     "execution_count": 21,
     "metadata": {},
     "output_type": "execute_result"
    }
   ],
   "source": [
    "raw_13.head()"
   ]
  },
  {
   "cell_type": "code",
   "execution_count": 22,
   "metadata": {},
   "outputs": [],
   "source": [
    "raw_13 = raw_13.drop(['time','volume','type','useless',], axis=1)"
   ]
  },
  {
   "cell_type": "code",
   "execution_count": 23,
   "metadata": {},
   "outputs": [
    {
     "data": {
      "text/plain": [
       "travel_type     495\n",
       "vote            466\n",
       "contribution    424\n",
       "main              0\n",
       "score             0\n",
       "content           0\n",
       "date              0\n",
       "name              0\n",
       "dtype: int64"
      ]
     },
     "execution_count": 23,
     "metadata": {},
     "output_type": "execute_result"
    }
   ],
   "source": [
    "raw_13.isnull().sum().sort_values(ascending=False)"
   ]
  },
  {
   "cell_type": "code",
   "execution_count": 24,
   "metadata": {},
   "outputs": [],
   "source": [
    "raw_13['contribution'] = raw_13['contribution'].fillna('0')\n",
    "raw_13['contribution'] = raw_13['contribution'].astype(str).astype(int)\n",
    "raw_13['vote'] = raw_13['vote'].fillna('0')\n",
    "raw_13['vote'] = raw_13['vote'].astype(str).astype(int)\n",
    "raw_13['travel_type'] = raw_13['travel_type'].fillna('Not Given')\n",
    "raw_13['score'] = raw_13['score'].astype(str).astype(int)\n",
    "raw_13['score'] = raw_13['score']/10\n",
    "raw_13['date'] = pd.to_datetime(raw_13['date'],infer_datetime_format=True)"
   ]
  },
  {
   "cell_type": "code",
   "execution_count": 25,
   "metadata": {},
   "outputs": [
    {
     "data": {
      "text/plain": [
       "travel_type     0\n",
       "contribution    0\n",
       "vote            0\n",
       "main            0\n",
       "score           0\n",
       "content         0\n",
       "date            0\n",
       "name            0\n",
       "dtype: int64"
      ]
     },
     "execution_count": 25,
     "metadata": {},
     "output_type": "execute_result"
    }
   ],
   "source": [
    "raw_13.isnull().sum().sort_values(ascending=False)"
   ]
  },
  {
   "cell_type": "markdown",
   "metadata": {},
   "source": [
    "### In some rare cases, the 'date of experience' is missing. Because the comments in TripAdvisor are sorted by time except for the homepage, and the time is only accurate to the month. Therefore, the 'date' is very close to or equal to the adjacent previous or next value. So, in this research, filled the missing 'date' with adjacent values from front to back."
   ]
  },
  {
   "cell_type": "markdown",
   "metadata": {},
   "source": [
    "### raw_01['date'] = raw_01['date'].fillna(method='ffill')"
   ]
  },
  {
   "cell_type": "code",
   "execution_count": 27,
   "metadata": {},
   "outputs": [
    {
     "data": {
      "text/plain": [
       "(4035, 8)"
      ]
     },
     "execution_count": 27,
     "metadata": {},
     "output_type": "execute_result"
    }
   ],
   "source": [
    "raw_13.shape"
   ]
  },
  {
   "cell_type": "code",
   "execution_count": 28,
   "metadata": {},
   "outputs": [
    {
     "data": {
      "text/plain": [
       "name                    object\n",
       "date            datetime64[ns]\n",
       "content                 object\n",
       "score                  float64\n",
       "main                    object\n",
       "vote                     int32\n",
       "contribution             int32\n",
       "travel_type             object\n",
       "dtype: object"
      ]
     },
     "execution_count": 28,
     "metadata": {},
     "output_type": "execute_result"
    }
   ],
   "source": [
    "raw_13.dtypes"
   ]
  },
  {
   "cell_type": "code",
   "execution_count": 29,
   "metadata": {},
   "outputs": [
    {
     "data": {
      "text/html": [
       "<div>\n",
       "<style scoped>\n",
       "    .dataframe tbody tr th:only-of-type {\n",
       "        vertical-align: middle;\n",
       "    }\n",
       "\n",
       "    .dataframe tbody tr th {\n",
       "        vertical-align: top;\n",
       "    }\n",
       "\n",
       "    .dataframe thead th {\n",
       "        text-align: right;\n",
       "    }\n",
       "</style>\n",
       "<table border=\"1\" class=\"dataframe\">\n",
       "  <thead>\n",
       "    <tr style=\"text-align: right;\">\n",
       "      <th></th>\n",
       "      <th>name</th>\n",
       "      <th>date</th>\n",
       "      <th>content</th>\n",
       "      <th>score</th>\n",
       "      <th>main</th>\n",
       "      <th>vote</th>\n",
       "      <th>contribution</th>\n",
       "      <th>travel_type</th>\n",
       "    </tr>\n",
       "  </thead>\n",
       "  <tbody>\n",
       "    <tr>\n",
       "      <th>0</th>\n",
       "      <td>The Hush-Hush Reviewer</td>\n",
       "      <td>2020-11-01</td>\n",
       "      <td>Busy busy even with Covid so that might put so...</td>\n",
       "      <td>4.0</td>\n",
       "      <td>Busy busy</td>\n",
       "      <td>242</td>\n",
       "      <td>661</td>\n",
       "      <td>solo</td>\n",
       "    </tr>\n",
       "    <tr>\n",
       "      <th>1</th>\n",
       "      <td>Alex C</td>\n",
       "      <td>2020-11-01</td>\n",
       "      <td>Great shopping centre and plenty of bespoke sh...</td>\n",
       "      <td>5.0</td>\n",
       "      <td>Great shopping</td>\n",
       "      <td>69</td>\n",
       "      <td>67</td>\n",
       "      <td>as a couple</td>\n",
       "    </tr>\n",
       "    <tr>\n",
       "      <th>2</th>\n",
       "      <td>Nishamanttey</td>\n",
       "      <td>2020-10-01</td>\n",
       "      <td>The street runs through the city center. A lot...</td>\n",
       "      <td>5.0</td>\n",
       "      <td>Hanging out</td>\n",
       "      <td>160</td>\n",
       "      <td>167</td>\n",
       "      <td>solo</td>\n",
       "    </tr>\n",
       "    <tr>\n",
       "      <th>3</th>\n",
       "      <td>Malgorzata</td>\n",
       "      <td>2020-10-01</td>\n",
       "      <td>Buchanan Street is one of Glasgow's main comme...</td>\n",
       "      <td>4.0</td>\n",
       "      <td>Great shopping street</td>\n",
       "      <td>905</td>\n",
       "      <td>0</td>\n",
       "      <td>Not Given</td>\n",
       "    </tr>\n",
       "    <tr>\n",
       "      <th>4</th>\n",
       "      <td>g h</td>\n",
       "      <td>2020-09-01</td>\n",
       "      <td>Buchanan Street was beautiful we walked up and...</td>\n",
       "      <td>5.0</td>\n",
       "      <td>beautiful street, the nicest we saw in Glasgow</td>\n",
       "      <td>1</td>\n",
       "      <td>83</td>\n",
       "      <td>Not Given</td>\n",
       "    </tr>\n",
       "  </tbody>\n",
       "</table>\n",
       "</div>"
      ],
      "text/plain": [
       "                     name       date  \\\n",
       "0  The Hush-Hush Reviewer 2020-11-01   \n",
       "1                  Alex C 2020-11-01   \n",
       "2            Nishamanttey 2020-10-01   \n",
       "3              Malgorzata 2020-10-01   \n",
       "4                     g h 2020-09-01   \n",
       "\n",
       "                                             content  score  \\\n",
       "0  Busy busy even with Covid so that might put so...    4.0   \n",
       "1  Great shopping centre and plenty of bespoke sh...    5.0   \n",
       "2  The street runs through the city center. A lot...    5.0   \n",
       "3  Buchanan Street is one of Glasgow's main comme...    4.0   \n",
       "4  Buchanan Street was beautiful we walked up and...    5.0   \n",
       "\n",
       "                                             main  vote  contribution  \\\n",
       "0                                       Busy busy   242           661   \n",
       "1                                  Great shopping    69            67   \n",
       "2                                     Hanging out   160           167   \n",
       "3                           Great shopping street   905             0   \n",
       "4  beautiful street, the nicest we saw in Glasgow     1            83   \n",
       "\n",
       "   travel_type  \n",
       "0         solo  \n",
       "1  as a couple  \n",
       "2         solo  \n",
       "3    Not Given  \n",
       "4    Not Given  "
      ]
     },
     "execution_count": 29,
     "metadata": {},
     "output_type": "execute_result"
    }
   ],
   "source": [
    "raw_13.head()"
   ]
  },
  {
   "cell_type": "code",
   "execution_count": 30,
   "metadata": {},
   "outputs": [
    {
     "data": {
      "text/html": [
       "<div>\n",
       "<style scoped>\n",
       "    .dataframe tbody tr th:only-of-type {\n",
       "        vertical-align: middle;\n",
       "    }\n",
       "\n",
       "    .dataframe tbody tr th {\n",
       "        vertical-align: top;\n",
       "    }\n",
       "\n",
       "    .dataframe thead th {\n",
       "        text-align: right;\n",
       "    }\n",
       "</style>\n",
       "<table border=\"1\" class=\"dataframe\">\n",
       "  <thead>\n",
       "    <tr style=\"text-align: right;\">\n",
       "      <th></th>\n",
       "      <th>score</th>\n",
       "      <th>vote</th>\n",
       "      <th>contribution</th>\n",
       "    </tr>\n",
       "  </thead>\n",
       "  <tbody>\n",
       "    <tr>\n",
       "      <th>count</th>\n",
       "      <td>4035.000000</td>\n",
       "      <td>4035.000000</td>\n",
       "      <td>4035.000000</td>\n",
       "    </tr>\n",
       "    <tr>\n",
       "      <th>mean</th>\n",
       "      <td>4.512763</td>\n",
       "      <td>51.468897</td>\n",
       "      <td>112.728129</td>\n",
       "    </tr>\n",
       "    <tr>\n",
       "      <th>std</th>\n",
       "      <td>0.690988</td>\n",
       "      <td>95.540164</td>\n",
       "      <td>164.098931</td>\n",
       "    </tr>\n",
       "    <tr>\n",
       "      <th>min</th>\n",
       "      <td>1.000000</td>\n",
       "      <td>0.000000</td>\n",
       "      <td>0.000000</td>\n",
       "    </tr>\n",
       "    <tr>\n",
       "      <th>25%</th>\n",
       "      <td>4.000000</td>\n",
       "      <td>5.000000</td>\n",
       "      <td>12.000000</td>\n",
       "    </tr>\n",
       "    <tr>\n",
       "      <th>50%</th>\n",
       "      <td>5.000000</td>\n",
       "      <td>18.000000</td>\n",
       "      <td>45.000000</td>\n",
       "    </tr>\n",
       "    <tr>\n",
       "      <th>75%</th>\n",
       "      <td>5.000000</td>\n",
       "      <td>55.000000</td>\n",
       "      <td>137.000000</td>\n",
       "    </tr>\n",
       "    <tr>\n",
       "      <th>max</th>\n",
       "      <td>5.000000</td>\n",
       "      <td>950.000000</td>\n",
       "      <td>991.000000</td>\n",
       "    </tr>\n",
       "  </tbody>\n",
       "</table>\n",
       "</div>"
      ],
      "text/plain": [
       "             score         vote  contribution\n",
       "count  4035.000000  4035.000000   4035.000000\n",
       "mean      4.512763    51.468897    112.728129\n",
       "std       0.690988    95.540164    164.098931\n",
       "min       1.000000     0.000000      0.000000\n",
       "25%       4.000000     5.000000     12.000000\n",
       "50%       5.000000    18.000000     45.000000\n",
       "75%       5.000000    55.000000    137.000000\n",
       "max       5.000000   950.000000    991.000000"
      ]
     },
     "execution_count": 30,
     "metadata": {},
     "output_type": "execute_result"
    }
   ],
   "source": [
    "raw_13.describe()"
   ]
  },
  {
   "cell_type": "code",
   "execution_count": 31,
   "metadata": {},
   "outputs": [],
   "source": [
    "raw_13.to_csv('13.csv')"
   ]
  },
  {
   "cell_type": "markdown",
   "metadata": {},
   "source": [
    "### Use the same method to process the other 14 raw data"
   ]
  },
  {
   "cell_type": "code",
   "execution_count": 32,
   "metadata": {},
   "outputs": [],
   "source": [
    "a1 = pd.read_csv('01.csv')\n",
    "a2 = pd.read_csv('02.csv')\n",
    "a3 = pd.read_csv('03.csv')\n",
    "a4 = pd.read_csv('04.csv')\n",
    "a5 = pd.read_csv('05.csv')\n",
    "a6 = pd.read_csv('06.csv')\n",
    "a7 = pd.read_csv('07.csv')\n",
    "a8 = pd.read_csv('08.csv')\n",
    "a9 = pd.read_csv('09.csv')\n",
    "a10 = pd.read_csv('10.csv')\n",
    "a11 = pd.read_csv('11.csv')\n",
    "a12 = pd.read_csv('12.csv')\n",
    "a13 = pd.read_csv('13.csv')\n",
    "a14 = pd.read_csv('14.csv')\n",
    "a15 = pd.read_csv('15.csv')"
   ]
  },
  {
   "cell_type": "code",
   "execution_count": 33,
   "metadata": {},
   "outputs": [],
   "source": [
    "a1 = a1.drop('Unnamed: 0', axis=1)\n",
    "a2 = a2.drop('Unnamed: 0', axis=1)\n",
    "a3 = a3.drop('Unnamed: 0', axis=1)\n",
    "a4 = a4.drop('Unnamed: 0', axis=1)\n",
    "a5 = a5.drop('Unnamed: 0', axis=1)\n",
    "a6 = a6.drop('Unnamed: 0', axis=1)\n",
    "a7 = a7.drop('Unnamed: 0', axis=1)\n",
    "a8 = a8.drop('Unnamed: 0', axis=1)\n",
    "a9 = a9.drop('Unnamed: 0', axis=1)\n",
    "a10 = a10.drop('Unnamed: 0', axis=1)\n",
    "a11 = a11.drop('Unnamed: 0', axis=1)\n",
    "a12 = a12.drop('Unnamed: 0', axis=1)\n",
    "a13 = a13.drop('Unnamed: 0', axis=1)\n",
    "a14 = a14.drop('Unnamed: 0', axis=1)\n",
    "a15 = a15.drop('Unnamed: 0', axis=1)"
   ]
  },
  {
   "cell_type": "code",
   "execution_count": 34,
   "metadata": {},
   "outputs": [],
   "source": [
    "a1['site'] = 'Kelvingrove Art Gallery and Museum'\n",
    "a2['site'] = 'The Riverside Museum of Transport and Travel'\n",
    "a3['site'] = 'Glengoyne Distillery'\n",
    "a4['site'] = 'Celtic Park'\n",
    "a5['site'] = 'University of Glasgow'\n",
    "a6['site'] = 'The Necropolis'\n",
    "a7['site'] = 'Tennents Wellpark Brewery'\n",
    "a8['site'] = 'The Clydeside Distillery'\n",
    "a9['site'] = 'Ibrox Stadium'\n",
    "a10['site'] = 'Glasgow Botanic Gardens'\n",
    "a11['site'] = 'Glasgow Science Centre'\n",
    "a12['site'] = 'Glasgow Cathedral'\n",
    "a13['site'] = 'Buchanan Street'\n",
    "a14['site'] = 'Pollok Country Park'\n",
    "a15['site'] = 'The Tenement House'"
   ]
  },
  {
   "cell_type": "code",
   "execution_count": 35,
   "metadata": {},
   "outputs": [],
   "source": [
    "site_frames = [a1,a2,a3,a4,a5,a6,a7,a8,a9,a10,a11,a12,a13,a14,a15]\n",
    "siteall = pd.concat(site_frames)"
   ]
  },
  {
   "cell_type": "code",
   "execution_count": 36,
   "metadata": {},
   "outputs": [
    {
     "data": {
      "text/plain": [
       "(44033, 9)"
      ]
     },
     "execution_count": 36,
     "metadata": {},
     "output_type": "execute_result"
    }
   ],
   "source": [
    "siteall.shape"
   ]
  },
  {
   "cell_type": "code",
   "execution_count": 37,
   "metadata": {},
   "outputs": [
    {
     "data": {
      "text/plain": [
       "site            0\n",
       "travel_type     0\n",
       "contribution    0\n",
       "vote            0\n",
       "main            0\n",
       "score           0\n",
       "content         0\n",
       "date            0\n",
       "name            0\n",
       "dtype: int64"
      ]
     },
     "execution_count": 37,
     "metadata": {},
     "output_type": "execute_result"
    }
   ],
   "source": [
    "siteall.isnull().sum().sort_values(ascending=False)"
   ]
  },
  {
   "cell_type": "code",
   "execution_count": 38,
   "metadata": {},
   "outputs": [],
   "source": [
    "siteall['date'] = pd.to_datetime(siteall['date'],infer_datetime_format=True)"
   ]
  },
  {
   "cell_type": "code",
   "execution_count": 39,
   "metadata": {},
   "outputs": [
    {
     "data": {
      "text/plain": [
       "name                    object\n",
       "date            datetime64[ns]\n",
       "content                 object\n",
       "score                  float64\n",
       "main                    object\n",
       "vote                     int64\n",
       "contribution             int64\n",
       "travel_type             object\n",
       "site                    object\n",
       "dtype: object"
      ]
     },
     "execution_count": 39,
     "metadata": {},
     "output_type": "execute_result"
    }
   ],
   "source": [
    "siteall.dtypes"
   ]
  },
  {
   "cell_type": "code",
   "execution_count": 40,
   "metadata": {},
   "outputs": [],
   "source": [
    "siteall.to_csv('top15.csv')"
   ]
  }
 ],
 "metadata": {
  "kernelspec": {
   "display_name": "Python 3",
   "language": "python",
   "name": "python3"
  },
  "language_info": {
   "codemirror_mode": {
    "name": "ipython",
    "version": 3
   },
   "file_extension": ".py",
   "mimetype": "text/x-python",
   "name": "python",
   "nbconvert_exporter": "python",
   "pygments_lexer": "ipython3",
   "version": "3.8.5"
  }
 },
 "nbformat": 4,
 "nbformat_minor": 4
}
