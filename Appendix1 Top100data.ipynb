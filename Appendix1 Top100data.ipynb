{
 "cells": [
  {
   "cell_type": "code",
   "execution_count": 111,
   "metadata": {},
   "outputs": [],
   "source": [
    "import requests\n",
    "import re\n",
    "from bs4 import BeautifulSoup\n",
    "import csv\n",
    "import os\n",
    "import pandas as pd"
   ]
  },
  {
   "cell_type": "code",
   "execution_count": 2,
   "metadata": {},
   "outputs": [],
   "source": [
    "start_url = 'https://www.tripadvisor.com/Attractions-g186534-Activities-Glasgow_Scotland.html'"
   ]
  },
  {
   "cell_type": "code",
   "execution_count": 81,
   "metadata": {},
   "outputs": [],
   "source": [
    "url_container = []\n",
    "prepare_url_parts = start_url.split('-Activities-')\n",
    "for page in range(1,4):\n",
    "    url = prepare_url_parts[0]+'-Activities-'+'oa{}-'.format(30*page)+prepare_url_parts[1]\n",
    "    url_container.append(url)"
   ]
  },
  {
   "cell_type": "code",
   "execution_count": 82,
   "metadata": {},
   "outputs": [
    {
     "name": "stdout",
     "output_type": "stream",
     "text": [
      "['https://www.tripadvisor.com/Attractions-g186534-Activities-oa30-Glasgow_Scotland.html', 'https://www.tripadvisor.com/Attractions-g186534-Activities-oa60-Glasgow_Scotland.html', 'https://www.tripadvisor.com/Attractions-g186534-Activities-oa90-Glasgow_Scotland.html']\n"
     ]
    }
   ],
   "source": [
    "print(url_container)"
   ]
  },
  {
   "cell_type": "code",
   "execution_count": 106,
   "metadata": {},
   "outputs": [],
   "source": [
    "number_list = []\n",
    "name_list = []\n",
    "image_list = []\n",
    "score_list = []\n",
    "volunme_list = []\n",
    "detail_list = []"
   ]
  },
  {
   "cell_type": "code",
   "execution_count": 108,
   "metadata": {},
   "outputs": [],
   "source": [
    "first_url = 'https://www.tripadvisor.com/Attractions-g186534-Activities-a_allAttractions.true-Glasgow_Scotland.html'\n",
    "resp = requests.get(first_url)\n",
    "bsObj = BeautifulSoup(resp.text, 'html.parser')\n",
    "attraction_list = bsObj.findAll('section', {'data-automation':'AppPresentation_SingleFlexCardSection'})\n",
    "for attrac in attraction_list:\n",
    "    number = attrac.contents[0].span.div.div.contents[1].div.div.div.a.h3.div.span.div.get_text().split('.')[0]\n",
    "    number_list.append(number)\n",
    "    sitename = attrac.contents[0].span.div.div.contents[1].div.div.div.a.h3.div.span.div.get_text().split('.')[-1]\n",
    "    name_list.append(sitename)\n",
    "    imagelink = attrac.contents[0].span.div.div.div.div.div.div.div.a.div.div.div.div.div.div.img.attrs['src']\n",
    "    image_list.append(imagelink)\n",
    "    score = attrac.contents[0].span.div.div.contents[1].div.div.div.contents[1].div.svg.attrs['aria-label'].split('of')[0]\n",
    "    score_list.append(score)\n",
    "    review_volunme = attrac.contents[0].span.div.div.contents[1].div.div.div.contents[1].div.span.get_text()\n",
    "    volunme_list.append(review_volunme)\n",
    "    detail = attrac.contents[0].span.div.div.contents[1].contents[1].div.div.div.get_text()\n",
    "    detail_list.append(detail)"
   ]
  },
  {
   "cell_type": "code",
   "execution_count": 109,
   "metadata": {},
   "outputs": [],
   "source": [
    "for page_url in url_container:\n",
    "    resp = requests.get(page_url)\n",
    "    bsObj = BeautifulSoup(resp.text, 'html.parser')\n",
    "    attraction_list = bsObj.findAll('section', {'data-automation':'AppPresentation_SingleFlexCardSection'})\n",
    "    for attrac in attraction_list:\n",
    "        number = attrac.contents[0].span.div.div.contents[1].div.div.div.a.h3.div.span.div.get_text().split('.')[0]\n",
    "        number_list.append(number)\n",
    "        sitename = attrac.contents[0].span.div.div.contents[1].div.div.div.a.h3.div.span.div.get_text().split('.')[-1]\n",
    "        name_list.append(sitename)\n",
    "        imagelink = attrac.contents[0].span.div.div.div.div.div.div.div.a.div.div.div.div.div.div.div.img.attrs['src']\n",
    "        image_list.append(imagelink)\n",
    "        score = attrac.contents[0].span.div.div.contents[1].div.div.div.contents[1].div.svg.attrs['aria-label'].split('of')[0]\n",
    "        score_list.append(score)\n",
    "        review_volunme = attrac.contents[0].span.div.div.contents[1].div.div.div.contents[1].div.span.get_text()\n",
    "        volunme_list.append(review_volunme)\n",
    "        detail = attrac.contents[0].span.div.div.contents[1].contents[1].div.div.div.get_text()\n",
    "        detail_list.append(detail)"
   ]
  },
  {
   "cell_type": "code",
   "execution_count": 132,
   "metadata": {},
   "outputs": [],
   "source": [
    "top_120 = pd.DataFrame(all_list).T"
   ]
  },
  {
   "cell_type": "code",
   "execution_count": 133,
   "metadata": {},
   "outputs": [],
   "source": [
    "top_120.columns = ['number','name','image_link','score','review_volunme','detail']"
   ]
  },
  {
   "cell_type": "code",
   "execution_count": 134,
   "metadata": {},
   "outputs": [
    {
     "data": {
      "text/plain": [
       "(120, 6)"
      ]
     },
     "execution_count": 134,
     "metadata": {},
     "output_type": "execute_result"
    }
   ],
   "source": [
    "top_120.shape"
   ]
  },
  {
   "cell_type": "code",
   "execution_count": 135,
   "metadata": {},
   "outputs": [
    {
     "data": {
      "text/html": [
       "<div>\n",
       "<style scoped>\n",
       "    .dataframe tbody tr th:only-of-type {\n",
       "        vertical-align: middle;\n",
       "    }\n",
       "\n",
       "    .dataframe tbody tr th {\n",
       "        vertical-align: top;\n",
       "    }\n",
       "\n",
       "    .dataframe thead th {\n",
       "        text-align: right;\n",
       "    }\n",
       "</style>\n",
       "<table border=\"1\" class=\"dataframe\">\n",
       "  <thead>\n",
       "    <tr style=\"text-align: right;\">\n",
       "      <th></th>\n",
       "      <th>number</th>\n",
       "      <th>name</th>\n",
       "      <th>image_link</th>\n",
       "      <th>score</th>\n",
       "      <th>review_volunme</th>\n",
       "      <th>detail</th>\n",
       "    </tr>\n",
       "  </thead>\n",
       "  <tbody>\n",
       "    <tr>\n",
       "      <th>count</th>\n",
       "      <td>120</td>\n",
       "      <td>120</td>\n",
       "      <td>120</td>\n",
       "      <td>120</td>\n",
       "      <td>120</td>\n",
       "      <td>120</td>\n",
       "    </tr>\n",
       "    <tr>\n",
       "      <th>unique</th>\n",
       "      <td>120</td>\n",
       "      <td>120</td>\n",
       "      <td>120</td>\n",
       "      <td>6</td>\n",
       "      <td>104</td>\n",
       "      <td>96</td>\n",
       "    </tr>\n",
       "    <tr>\n",
       "      <th>top</th>\n",
       "      <td>1</td>\n",
       "      <td>Glasgow Central Mosque</td>\n",
       "      <td>https://dynamic-media-cdn.tripadvisor.com/medi...</td>\n",
       "      <td>4.5</td>\n",
       "      <td>48</td>\n",
       "      <td>TheatersCity Centre</td>\n",
       "    </tr>\n",
       "    <tr>\n",
       "      <th>freq</th>\n",
       "      <td>1</td>\n",
       "      <td>1</td>\n",
       "      <td>1</td>\n",
       "      <td>65</td>\n",
       "      <td>3</td>\n",
       "      <td>5</td>\n",
       "    </tr>\n",
       "  </tbody>\n",
       "</table>\n",
       "</div>"
      ],
      "text/plain": [
       "       number                     name  \\\n",
       "count     120                      120   \n",
       "unique    120                      120   \n",
       "top         1   Glasgow Central Mosque   \n",
       "freq        1                        1   \n",
       "\n",
       "                                               image_link score  \\\n",
       "count                                                 120   120   \n",
       "unique                                                120     6   \n",
       "top     https://dynamic-media-cdn.tripadvisor.com/medi...  4.5    \n",
       "freq                                                    1    65   \n",
       "\n",
       "       review_volunme               detail  \n",
       "count             120                  120  \n",
       "unique            104                   96  \n",
       "top                48  TheatersCity Centre  \n",
       "freq                3                    5  "
      ]
     },
     "execution_count": 135,
     "metadata": {},
     "output_type": "execute_result"
    }
   ],
   "source": [
    "top_120.describe()"
   ]
  },
  {
   "cell_type": "code",
   "execution_count": 136,
   "metadata": {},
   "outputs": [
    {
     "data": {
      "text/html": [
       "<div>\n",
       "<style scoped>\n",
       "    .dataframe tbody tr th:only-of-type {\n",
       "        vertical-align: middle;\n",
       "    }\n",
       "\n",
       "    .dataframe tbody tr th {\n",
       "        vertical-align: top;\n",
       "    }\n",
       "\n",
       "    .dataframe thead th {\n",
       "        text-align: right;\n",
       "    }\n",
       "</style>\n",
       "<table border=\"1\" class=\"dataframe\">\n",
       "  <thead>\n",
       "    <tr style=\"text-align: right;\">\n",
       "      <th></th>\n",
       "      <th>number</th>\n",
       "      <th>name</th>\n",
       "      <th>image_link</th>\n",
       "      <th>score</th>\n",
       "      <th>review_volunme</th>\n",
       "      <th>detail</th>\n",
       "    </tr>\n",
       "  </thead>\n",
       "  <tbody>\n",
       "    <tr>\n",
       "      <th>0</th>\n",
       "      <td>1</td>\n",
       "      <td>Kelvingrove Art Gallery and Museum</td>\n",
       "      <td>https://dynamic-media-cdn.tripadvisor.com/medi...</td>\n",
       "      <td>4.5</td>\n",
       "      <td>15,299</td>\n",
       "      <td>Art Museums</td>\n",
       "    </tr>\n",
       "    <tr>\n",
       "      <th>1</th>\n",
       "      <td>2</td>\n",
       "      <td>The Riverside Museum of Transport and Travel</td>\n",
       "      <td>https://dynamic-media-cdn.tripadvisor.com/medi...</td>\n",
       "      <td>4.5</td>\n",
       "      <td>9,436</td>\n",
       "      <td>Speciality MuseumsWest End</td>\n",
       "    </tr>\n",
       "    <tr>\n",
       "      <th>2</th>\n",
       "      <td>3</td>\n",
       "      <td>Glengoyne Distillery</td>\n",
       "      <td>https://dynamic-media-cdn.tripadvisor.com/medi...</td>\n",
       "      <td>4.5</td>\n",
       "      <td>1,562</td>\n",
       "      <td>Distilleries</td>\n",
       "    </tr>\n",
       "    <tr>\n",
       "      <th>3</th>\n",
       "      <td>4</td>\n",
       "      <td>Celtic Park</td>\n",
       "      <td>https://dynamic-media-cdn.tripadvisor.com/medi...</td>\n",
       "      <td>4.5</td>\n",
       "      <td>1,550</td>\n",
       "      <td>Arenas &amp; Stadiums</td>\n",
       "    </tr>\n",
       "    <tr>\n",
       "      <th>4</th>\n",
       "      <td>5</td>\n",
       "      <td>University of Glasgow</td>\n",
       "      <td>https://dynamic-media-cdn.tripadvisor.com/medi...</td>\n",
       "      <td>4.5</td>\n",
       "      <td>1,995</td>\n",
       "      <td>Educational sitesWest End</td>\n",
       "    </tr>\n",
       "  </tbody>\n",
       "</table>\n",
       "</div>"
      ],
      "text/plain": [
       "  number                                           name  \\\n",
       "0      1             Kelvingrove Art Gallery and Museum   \n",
       "1      2   The Riverside Museum of Transport and Travel   \n",
       "2      3                           Glengoyne Distillery   \n",
       "3      4                                    Celtic Park   \n",
       "4      5                          University of Glasgow   \n",
       "\n",
       "                                          image_link score review_volunme  \\\n",
       "0  https://dynamic-media-cdn.tripadvisor.com/medi...  4.5          15,299   \n",
       "1  https://dynamic-media-cdn.tripadvisor.com/medi...  4.5           9,436   \n",
       "2  https://dynamic-media-cdn.tripadvisor.com/medi...  4.5           1,562   \n",
       "3  https://dynamic-media-cdn.tripadvisor.com/medi...  4.5           1,550   \n",
       "4  https://dynamic-media-cdn.tripadvisor.com/medi...  4.5           1,995   \n",
       "\n",
       "                       detail  \n",
       "0                 Art Museums  \n",
       "1  Speciality MuseumsWest End  \n",
       "2                Distilleries  \n",
       "3           Arenas & Stadiums  \n",
       "4   Educational sitesWest End  "
      ]
     },
     "execution_count": 136,
     "metadata": {},
     "output_type": "execute_result"
    }
   ],
   "source": [
    "top_120.head()"
   ]
  },
  {
   "cell_type": "code",
   "execution_count": 137,
   "metadata": {},
   "outputs": [
    {
     "data": {
      "text/plain": [
       "detail            0\n",
       "review_volunme    0\n",
       "score             0\n",
       "image_link        0\n",
       "name              0\n",
       "number            0\n",
       "dtype: int64"
      ]
     },
     "execution_count": 137,
     "metadata": {},
     "output_type": "execute_result"
    }
   ],
   "source": [
    "top_120.isnull().sum().sort_values(ascending=False)"
   ]
  },
  {
   "cell_type": "code",
   "execution_count": 165,
   "metadata": {},
   "outputs": [],
   "source": [
    "top_100 = top_120[:100]"
   ]
  },
  {
   "cell_type": "code",
   "execution_count": 167,
   "metadata": {},
   "outputs": [],
   "source": [
    "import urllib.parse"
   ]
  },
  {
   "cell_type": "code",
   "execution_count": 168,
   "metadata": {},
   "outputs": [
    {
     "name": "stdout",
     "output_type": "stream",
     "text": [
      "[{'place_id': 96555166, 'licence': 'Data © OpenStreetMap contributors, ODbL 1.0. https://osm.org/copyright', 'osm_type': 'way', 'osm_id': 26605473, 'boundingbox': ['55.8679676', '55.8691987', '-4.2915201', '-4.2897375'], 'lat': '55.8685825', 'lon': '-4.290627759615381', 'display_name': 'Kelvingrove Art Gallery and Museum, Argyle Street, Yorkhill, Kelvinhaugh, Glasgow, Glasgow City, Scotland, G3 8AG, United Kingdom', 'class': 'tourism', 'type': 'museum', 'importance': 1.0171584767702773, 'icon': 'https://nominatim.openstreetmap.org/ui/mapicons//tourist_museum.p.20.png'}]\n",
      "[]\n",
      "[]\n",
      "[{'place_id': 256985830, 'licence': 'Data © OpenStreetMap contributors, ODbL 1.0. https://osm.org/copyright', 'osm_type': 'relation', 'osm_id': 904494, 'boundingbox': ['55.8487156', '55.8507742', '-4.2073019', '-4.2035296'], 'lat': '55.8497578', 'lon': '-4.205468869948476', 'display_name': 'Celtic Park, Kinloch Street, Barrowfield, Parkhead, Glasgow, Glasgow City, Scotland, G40 3RE, United Kingdom', 'class': 'leisure', 'type': 'stadium', 'importance': 0.8084411102981343}]\n",
      "[{'place_id': 95908841, 'licence': 'Data © OpenStreetMap contributors, ODbL 1.0. https://osm.org/copyright', 'osm_type': 'way', 'osm_id': 26624925, 'boundingbox': ['55.8699676', '55.8751844', '-4.2955021', '-4.2836373'], 'lat': '55.872315349999994', 'lon': '-4.289219112981823', 'display_name': 'University of Glasgow, University Avenue, Hillhead, Glasgow, Glasgow City, Scotland, G12 8LX, United Kingdom', 'class': 'amenity', 'type': 'university', 'importance': 0.9725498543100821, 'icon': 'https://nominatim.openstreetmap.org/ui/mapicons//education_university.p.20.png'}, {'place_id': 51895491, 'licence': 'Data © OpenStreetMap contributors, ODbL 1.0. https://osm.org/copyright', 'osm_type': 'node', 'osm_id': 4385102754, 'boundingbox': ['55.8687383', '55.8688383', '-4.2943829', '-4.2942829'], 'lat': '55.8687883', 'lon': '-4.2943329', 'display_name': 'University of Glasgow Hunterian at Kelvin Hall, 1445, Argyle Street, Yorkhill, Kelvinhaugh, Glasgow, Glasgow City, Scotland, G11 6PA, United Kingdom', 'class': 'tourism', 'type': 'museum', 'importance': 0.411, 'icon': 'https://nominatim.openstreetmap.org/ui/mapicons//tourist_museum.p.20.png'}, {'place_id': 5517943, 'licence': 'Data © OpenStreetMap contributors, ODbL 1.0. https://osm.org/copyright', 'osm_type': 'node', 'osm_id': 600576868, 'boundingbox': ['55.8716406', '55.8717406', '-4.2877767', '-4.2876767'], 'lat': '55.8716906', 'lon': '-4.2877267', 'display_name': 'Hunterian Museum, University Avenue, Yorkhill, Hillhead, Glasgow, Glasgow City, Scotland, G12 8LU, United Kingdom', 'class': 'tourism', 'type': 'museum', 'importance': 0.31100000000000005, 'icon': 'https://nominatim.openstreetmap.org/ui/mapicons//tourist_museum.p.20.png'}, {'place_id': 57189273, 'licence': 'Data © OpenStreetMap contributors, ODbL 1.0. https://osm.org/copyright', 'osm_type': 'node', 'osm_id': 4915702269, 'boundingbox': ['55.8730464', '55.8731464', '-4.2888202', '-4.2887202'], 'lat': '55.8730964', 'lon': '-4.2887702', 'display_name': 'Hunterian Art Gallery, Hillhead Street, Yorkhill, Hillhead, Glasgow, Glasgow City, Scotland, G12 8QF, United Kingdom', 'class': 'tourism', 'type': 'gallery', 'importance': 0.21100000000000002}]\n",
      "[{'place_id': 101804939, 'licence': 'Data © OpenStreetMap contributors, ODbL 1.0. https://osm.org/copyright', 'osm_type': 'way', 'osm_id': 44635018, 'boundingbox': ['55.8417103', '55.8450986', '-4.2504597', '-4.2432708'], 'lat': '55.8436251', 'lon': '-4.247153711759704', 'display_name': 'Southern Necropolis, Dixons Blazes Industrial Estate, Oatlands, Glasgow, Glasgow City, Scotland, United Kingdom', 'class': 'landuse', 'type': 'cemetery', 'importance': 0.5318117876502598}, {'place_id': 85427626, 'licence': 'Data © OpenStreetMap contributors, ODbL 1.0. https://osm.org/copyright', 'osm_type': 'way', 'osm_id': 4991193, 'boundingbox': ['55.8607501', '55.8648572', '-4.2355926', '-4.228106'], 'lat': '55.8627117', 'lon': '-4.230764005000472', 'display_name': 'Glasgow Necropolis, 70, Garngad, Glasgow, Glasgow City, Scotland, G4 0UZ, United Kingdom', 'class': 'landuse', 'type': 'cemetery', 'importance': 0.5124087281721011}, {'place_id': 96814393, 'licence': 'Data © OpenStreetMap contributors, ODbL 1.0. https://osm.org/copyright', 'osm_type': 'way', 'osm_id': 29435498, 'boundingbox': ['55.8493187', '55.8531189', '-4.207322', '-4.2008898'], 'lat': '55.8513775', 'lon': '-4.203764243928413', 'display_name': 'Eastern Necropolis, Barrowfield, Parkhead, Glasgow, Glasgow City, Scotland, United Kingdom', 'class': 'landuse', 'type': 'cemetery', 'importance': 0.39999999999999997}, {'place_id': 160944574, 'licence': 'Data © OpenStreetMap contributors, ODbL 1.0. https://osm.org/copyright', 'osm_type': 'way', 'osm_id': 294066057, 'boundingbox': ['55.8990225', '55.9058731', '-4.2838821', '-4.2741519'], 'lat': '55.90246735', 'lon': '-4.279895482862422', 'display_name': 'Western Necropolis, Cadder, Glasgow, Glasgow City, Scotland, G23 5AA, United Kingdom', 'class': 'landuse', 'type': 'cemetery', 'importance': 0.39999999999999997}, {'place_id': 180140411, 'licence': 'Data © OpenStreetMap contributors, ODbL 1.0. https://osm.org/copyright', 'osm_type': 'way', 'osm_id': 387063804, 'boundingbox': ['55.8620363', '55.8622366', '-4.2331834', '-4.2329924'], 'lat': '55.8621398', 'lon': '-4.233018789682539', 'display_name': 'The Entrance Facade, 70, Cathedral Square, Calton, Glasgow, Glasgow City, Scotland, G4 0UZ, United Kingdom', 'class': 'historic', 'type': 'monument', 'importance': 0.201, 'icon': 'https://nominatim.openstreetmap.org/ui/mapicons//tourist_monument.p.20.png'}]\n",
      "[{'place_id': 99694059, 'licence': 'Data © OpenStreetMap contributors, ODbL 1.0. https://osm.org/copyright', 'osm_type': 'way', 'osm_id': 37768678, 'boundingbox': ['55.8590708', '55.8612262', '-4.2337685', '-4.2273055'], 'lat': '55.86024895', 'lon': '-4.230748608321987', 'display_name': \"Tennent's Wellpark Brewery, Calton, Glasgow, Glasgow City, Scotland, G31 1JD, United Kingdom\", 'class': 'landuse', 'type': 'industrial', 'importance': 0.5793549821575414}]\n",
      "[{'place_id': 300602204, 'licence': 'Data © OpenStreetMap contributors, ODbL 1.0. https://osm.org/copyright', 'osm_type': 'way', 'osm_id': 894702000, 'boundingbox': ['55.8617354', '55.8627001', '-4.2973687', '-4.2962597'], 'lat': '55.86221725', 'lon': '-4.29690906805869', 'display_name': 'The Clydeside Distillery, 100, Stobcross Road, Yorkhill, Kelvinhaugh, Glasgow, Glasgow City, Scotland, G3 8QQ, United Kingdom', 'class': 'tourism', 'type': 'attraction', 'importance': 0.401, 'icon': 'https://nominatim.openstreetmap.org/ui/mapicons//poi_point_of_interest.p.20.png'}]\n",
      "[{'place_id': 89320795, 'licence': 'Data © OpenStreetMap contributors, ODbL 1.0. https://osm.org/copyright', 'osm_type': 'way', 'osm_id': 15090854, 'boundingbox': ['55.852217', '55.8542029', '-4.3112486', '-4.3073399'], 'lat': '55.853226649999996', 'lon': '-4.309214640621265', 'display_name': 'Ibrox Stadium, 50, Edmiston Drive, Ibrox, Glasgow, Glasgow City, Scotland, G51 2XD, United Kingdom', 'class': 'leisure', 'type': 'stadium', 'importance': 0.8136352826846367}]\n",
      "[{'place_id': 162846039, 'licence': 'Data © OpenStreetMap contributors, ODbL 1.0. https://osm.org/copyright', 'osm_type': 'way', 'osm_id': 302459223, 'boundingbox': ['55.8780135', '55.881743', '-4.2940439', '-4.2875307'], 'lat': '55.879886', 'lon': '-4.292019071942962', 'display_name': 'Glasgow Botanic Gardens, 730, Great Western Road, Hillhead, Glasgow, Glasgow City, Scotland, G12 0UE, United Kingdom', 'class': 'leisure', 'type': 'garden', 'importance': 0.7303958451676493}]\n",
      "[{'place_id': 95472661, 'licence': 'Data © OpenStreetMap contributors, ODbL 1.0. https://osm.org/copyright', 'osm_type': 'way', 'osm_id': 26565330, 'boundingbox': ['55.8582061', '55.8591257', '-4.2957029', '-4.2933584'], 'lat': '55.85869515', 'lon': '-4.294465805627723', 'display_name': 'Glasgow Science Centre, Pacific Quay, Cessnock, Glasgow, Glasgow City, Scotland, G51 1EA, United Kingdom', 'class': 'tourism', 'type': 'museum', 'importance': 0.7377684953714003, 'icon': 'https://nominatim.openstreetmap.org/ui/mapicons//tourist_museum.p.20.png'}, {'place_id': 42065730, 'licence': 'Data © OpenStreetMap contributors, ODbL 1.0. https://osm.org/copyright', 'osm_type': 'node', 'osm_id': 3215242158, 'boundingbox': ['55.8577982', '55.8578982', '-4.2932844', '-4.2931844'], 'lat': '55.8578482', 'lon': '-4.2932344', 'display_name': 'Glasgow Science Centre, Pacific Quay, Cessnock, Glasgow, Glasgow City, Scotland, G51 1EA, United Kingdom', 'class': 'amenity', 'type': 'bicycle_rental', 'importance': 0.411}, {'place_id': 96631407, 'licence': 'Data © OpenStreetMap contributors, ODbL 1.0. https://osm.org/copyright', 'osm_type': 'way', 'osm_id': 26544497, 'boundingbox': ['55.8556713', '55.8578234', '-4.2952513', '-4.2926743'], 'lat': '55.85717765', 'lon': '-4.293649692214613', 'display_name': 'Glasgow Science Centre, Pacific Drive, Cessnock, Glasgow, Glasgow City, Scotland, G51 1DA, United Kingdom', 'class': 'amenity', 'type': 'parking', 'importance': 0.411}]\n",
      "[{'place_id': 257576477, 'licence': 'Data © OpenStreetMap contributors, ODbL 1.0. https://osm.org/copyright', 'osm_type': 'relation', 'osm_id': 5761459, 'boundingbox': ['55.8627112', '55.8633204', '-4.2353559', '-4.2337696'], 'lat': '55.863012999999995', 'lon': '-4.234608308532264', 'display_name': 'Glasgow Cathedral, Castle Street, Townhead, Glasgow, Glasgow City, Scotland, G4 0QZ, United Kingdom', 'class': 'amenity', 'type': 'place_of_worship', 'importance': 0.6727747144143259, 'icon': 'https://nominatim.openstreetmap.org/ui/mapicons//place_of_worship_unknown3.p.20.png'}, {'place_id': 35917098, 'licence': 'Data © OpenStreetMap contributors, ODbL 1.0. https://osm.org/copyright', 'osm_type': 'node', 'osm_id': 2889605124, 'boundingbox': ['55.8628539', '55.8629539', '-4.2374801', '-4.2373801'], 'lat': '55.8629039', 'lon': '-4.2374301', 'display_name': 'Glasgow Cathedral, Castle Street, Townhead, Glasgow, Glasgow City, Scotland, G4 0QZ, United Kingdom', 'class': 'amenity', 'type': 'bicycle_rental', 'importance': 0.31100000000000005}]\n",
      "[{'place_id': 151863, 'licence': 'Data © OpenStreetMap contributors, ODbL 1.0. https://osm.org/copyright', 'osm_type': 'node', 'osm_id': 29751010, 'boundingbox': ['55.8574235', '55.8674235', '-4.2584299', '-4.2484299'], 'lat': '55.8624235', 'lon': '-4.2534299', 'display_name': 'Buchanan Street, Cowcaddens, Glasgow, Glasgow City, Scotland, G1 2LL, United Kingdom', 'class': 'railway', 'type': 'station', 'importance': 0.6338072630301357, 'icon': 'https://nominatim.openstreetmap.org/ui/mapicons//transport_train_station2.p.20.png'}, {'place_id': 153181267, 'licence': 'Data © OpenStreetMap contributors, ODbL 1.0. https://osm.org/copyright', 'osm_type': 'way', 'osm_id': 254969123, 'boundingbox': ['55.85018', '55.8510718', '-4.1117781', '-4.1111437'], 'lat': '55.8504615', 'lon': '-4.1116624', 'display_name': 'Buchanan Street, Baillieston, Glasgow, Glasgow City, Scotland, G69 6DY, United Kingdom', 'class': 'highway', 'type': 'residential', 'importance': 0.4}, {'place_id': 95977735, 'licence': 'Data © OpenStreetMap contributors, ODbL 1.0. https://osm.org/copyright', 'osm_type': 'way', 'osm_id': 25260617, 'boundingbox': ['55.8618882', '55.8620747', '-4.2536257', '-4.2535628'], 'lat': '55.8618882', 'lon': '-4.2536257', 'display_name': 'Buchanan Street, Cowcaddens, Glasgow, Glasgow City, Scotland, G1 2LL, United Kingdom', 'class': 'highway', 'type': 'unclassified', 'importance': 0.4}, {'place_id': 178823614, 'licence': 'Data © OpenStreetMap contributors, ODbL 1.0. https://osm.org/copyright', 'osm_type': 'way', 'osm_id': 381202306, 'boundingbox': ['55.8611662', '55.8618882', '-4.2538845', '-4.2536257'], 'lat': '55.8615796', 'lon': '-4.2537381', 'display_name': 'Buchanan Street, Cowcaddens, Glasgow, Glasgow City, Scotland, G1 2JX, United Kingdom', 'class': 'highway', 'type': 'pedestrian', 'importance': 0.4}, {'place_id': 178819693, 'licence': 'Data © OpenStreetMap contributors, ODbL 1.0. https://osm.org/copyright', 'osm_type': 'way', 'osm_id': 381202305, 'boundingbox': ['55.858173', '55.8611662', '-4.2549667', '-4.2538845'], 'lat': '55.8597181', 'lon': '-4.254425', 'display_name': 'Buchanan Street, Gorbals, Glasgow, Glasgow City, Scotland, G1 2JN, United Kingdom', 'class': 'highway', 'type': 'pedestrian', 'importance': 0.4}, {'place_id': 178828644, 'licence': 'Data © OpenStreetMap contributors, ODbL 1.0. https://osm.org/copyright', 'osm_type': 'way', 'osm_id': 381202308, 'boundingbox': ['55.8620747', '55.8634482', '-4.2535628', '-4.2530499'], 'lat': '55.8627289', 'lon': '-4.2533165', 'display_name': 'Buchanan Street, Cowcaddens, Glasgow, Glasgow City, Scotland, G1 2LL, United Kingdom', 'class': 'highway', 'type': 'pedestrian', 'importance': 0.4}, {'place_id': 178822978, 'licence': 'Data © OpenStreetMap contributors, ODbL 1.0. https://osm.org/copyright', 'osm_type': 'way', 'osm_id': 381202309, 'boundingbox': ['55.8634482', '55.8642091', '-4.253081', '-4.2529578'], 'lat': '55.8638125', 'lon': '-4.2529631', 'display_name': 'Buchanan Street, Cowcaddens, Glasgow, Glasgow City, Scotland, G2 3GF, United Kingdom', 'class': 'highway', 'type': 'pedestrian', 'importance': 0.4}, {'place_id': 180538359, 'licence': 'Data © OpenStreetMap contributors, ODbL 1.0. https://osm.org/copyright', 'osm_type': 'way', 'osm_id': 388878072, 'boundingbox': ['55.862706', '55.86273', '-4.2533462', '-4.2533165'], 'lat': '55.86273', 'lon': '-4.2533409', 'display_name': 'Buchanan Street, Cowcaddens, Glasgow, Glasgow City, Scotland, G1 2JZ, United Kingdom', 'class': 'highway', 'type': 'pedestrian', 'importance': 0.4}, {'place_id': 48541112, 'licence': 'Data © OpenStreetMap contributors, ODbL 1.0. https://osm.org/copyright', 'osm_type': 'node', 'osm_id': 3913798516, 'boundingbox': ['55.8623917', '55.8624917', '-4.2524327', '-4.2523327'], 'lat': '55.8624417', 'lon': '-4.2523827', 'display_name': 'Buchanan Street, Dundas Street, Merchant City, Glasgow, Glasgow City, Scotland, G1 2AH, United Kingdom', 'class': 'railway', 'type': 'subway_entrance', 'importance': 0.30100000000000005}]\n",
      "[{'place_id': 258008670, 'licence': 'Data © OpenStreetMap contributors, ODbL 1.0. https://osm.org/copyright', 'osm_type': 'relation', 'osm_id': 9776079, 'boundingbox': ['55.8120952', '55.839947', '-4.3386088', '-4.2959542'], 'lat': '55.82604445', 'lon': '-4.316209816074204', 'display_name': 'Pollok Country Park, Glasgow, Glasgow City, Scotland, United Kingdom', 'class': 'leisure', 'type': 'park', 'importance': 0.639862222899095}, {'place_id': 98712393, 'licence': 'Data © OpenStreetMap contributors, ODbL 1.0. https://osm.org/copyright', 'osm_type': 'way', 'osm_id': 32661200, 'boundingbox': ['55.8277461', '55.828374', '-4.3190995', '-4.3177753'], 'lat': '55.82806085', 'lon': '-4.318707694783378', 'display_name': 'Pollok House, 2060, Pollokshaws Road, Wellmeadow, Eastwood, Glasgow, Glasgow City, Scotland, G43 1AT, United Kingdom', 'class': 'tourism', 'type': 'museum', 'importance': 0.5071516336244855, 'icon': 'https://nominatim.openstreetmap.org/ui/mapicons//tourist_museum.p.20.png'}, {'place_id': 19946931, 'licence': 'Data © OpenStreetMap contributors, ODbL 1.0. https://osm.org/copyright', 'osm_type': 'node', 'osm_id': 2090293298, 'boundingbox': ['55.828432', '55.828532', '-4.3200098', '-4.3199098'], 'lat': '55.828482', 'lon': '-4.3199598', 'display_name': 'Pollok Country Park, Lochinch Road, Hazelwood, Glasgow, Glasgow City, Scotland, G41 4SN, United Kingdom', 'class': 'tourism', 'type': 'information', 'importance': 0.401, 'icon': 'https://nominatim.openstreetmap.org/ui/mapicons//amenity_information.p.20.png'}]\n",
      "[{'place_id': 11335535, 'licence': 'Data © OpenStreetMap contributors, ODbL 1.0. https://osm.org/copyright', 'osm_type': 'node', 'osm_id': 1115410226, 'boundingbox': ['55.8681311', '55.8682311', '-4.2684796', '-4.2683796'], 'lat': '55.8681811', 'lon': '-4.2684296', 'display_name': 'The Tenement House, 145, Buccleuch Street, Woodside, Glasgow, Glasgow City, Scotland, G3 6QN, United Kingdom', 'class': 'tourism', 'type': 'museum', 'importance': 0.6053717591619115, 'icon': 'https://nominatim.openstreetmap.org/ui/mapicons//tourist_museum.p.20.png'}]\n",
      "[{'place_id': 56989145, 'licence': 'Data © OpenStreetMap contributors, ODbL 1.0. https://osm.org/copyright', 'osm_type': 'node', 'osm_id': 4872386322, 'boundingbox': ['55.8728769', '55.8729769', '-4.2889192', '-4.2888192'], 'lat': '55.8729269', 'lon': '-4.2888692', 'display_name': 'The Mackintosh House, Hillhead Street, Yorkhill, Hillhead, Glasgow, Glasgow City, Scotland, G12 8QF, United Kingdom', 'class': 'tourism', 'type': 'museum', 'importance': 0.401, 'icon': 'https://nominatim.openstreetmap.org/ui/mapicons//tourist_museum.p.20.png'}]\n",
      "[{'place_id': 12795426, 'licence': 'Data © OpenStreetMap contributors, ODbL 1.0. https://osm.org/copyright', 'osm_type': 'node', 'osm_id': 1228412942, 'boundingbox': ['55.8473898', '55.8474898', '-4.3140403', '-4.3139403'], 'lat': '55.8474398', 'lon': '-4.3139903', 'display_name': 'House for an Art Lover, 10, Dumbreck Road, Hazelwood, Glasgow, Glasgow City, Scotland, G41 5BW, United Kingdom', 'class': 'tourism', 'type': 'museum', 'importance': 0.8715966805698039, 'icon': 'https://nominatim.openstreetmap.org/ui/mapicons//tourist_museum.p.20.png'}, {'place_id': 113959481, 'licence': 'Data © OpenStreetMap contributors, ODbL 1.0. https://osm.org/copyright', 'osm_type': 'way', 'osm_id': 106087337, 'boundingbox': ['55.8472502', '55.8475022', '-4.3141714', '-4.3134485'], 'lat': '55.847376', 'lon': '-4.313769273411763', 'display_name': 'House for an Art Lover, Paisley Road West, Ibrox, Glasgow, Glasgow City, Scotland, G52 1EQ, United Kingdom', 'class': 'building', 'type': 'yes', 'importance': 0.6010000000000001}]\n",
      "[{'place_id': 225224313, 'licence': 'Data © OpenStreetMap contributors, ODbL 1.0. https://osm.org/copyright', 'osm_type': 'way', 'osm_id': 674836678, 'boundingbox': ['55.8605197', '55.8617851', '-4.2517491', '-4.2487009'], 'lat': '55.86115545', 'lon': '-4.250218289043856', 'display_name': 'George Square, Merchant City, Glasgow, Glasgow City, Scotland, United Kingdom', 'class': 'place', 'type': 'square', 'importance': 0.6158021943488056}, {'place_id': 102357375, 'licence': 'Data © OpenStreetMap contributors, ODbL 1.0. https://osm.org/copyright', 'osm_type': 'way', 'osm_id': 45051130, 'boundingbox': ['55.8608987', '55.8617', '-4.2515621', '-4.2512454'], 'lat': '55.8608987', 'lon': '-4.2515621', 'display_name': 'George Square, Merchant City, Glasgow, Glasgow City, Scotland, G1 3BU, United Kingdom', 'class': 'highway', 'type': 'tertiary', 'importance': 0.4}, {'place_id': 85176233, 'licence': 'Data © OpenStreetMap contributors, ODbL 1.0. https://osm.org/copyright', 'osm_type': 'way', 'osm_id': 4397805, 'boundingbox': ['55.8614179', '55.8615466', '-4.2500287', '-4.2488758'], 'lat': '55.8615466', 'lon': '-4.2500287', 'display_name': 'George Square, Merchant City, Glasgow, Glasgow City, Scotland, G2 1EH, United Kingdom', 'class': 'highway', 'type': 'tertiary', 'importance': 0.4}, {'place_id': 102710524, 'licence': 'Data © OpenStreetMap contributors, ODbL 1.0. https://osm.org/copyright', 'osm_type': 'way', 'osm_id': 45051129, 'boundingbox': ['55.8606197', '55.8614179', '-4.2491738', '-4.2488758'], 'lat': '55.8606197', 'lon': '-4.2491738', 'display_name': 'George Square, Merchant City, Glasgow, Glasgow City, Scotland, G1 1HL, United Kingdom', 'class': 'highway', 'type': 'tertiary', 'importance': 0.4}, {'place_id': 102008014, 'licence': 'Data © OpenStreetMap contributors, ODbL 1.0. https://osm.org/copyright', 'osm_type': 'way', 'osm_id': 45051085, 'boundingbox': ['55.8615681', '55.8617191', '-4.2512731', '-4.2500362'], 'lat': '55.8615681', 'lon': '-4.2500362', 'display_name': 'George Square, Merchant City, Glasgow, Glasgow City, Scotland, G2 1DS, United Kingdom', 'class': 'highway', 'type': 'tertiary', 'importance': 0.4}, {'place_id': 123432731, 'licence': 'Data © OpenStreetMap contributors, ODbL 1.0. https://osm.org/copyright', 'osm_type': 'way', 'osm_id': 143769308, 'boundingbox': ['55.8606197', '55.8608758', '-4.2513703', '-4.2491738'], 'lat': '55.8607589', 'lon': '-4.2503475', 'display_name': 'George Square, Merchant City, Glasgow, Glasgow City, Scotland, G2 1DY, United Kingdom', 'class': 'highway', 'type': 'tertiary', 'importance': 0.4}]\n",
      "[]\n",
      "[]\n",
      "[{'place_id': 85484619, 'licence': 'Data © OpenStreetMap contributors, ODbL 1.0. https://osm.org/copyright', 'osm_type': 'way', 'osm_id': 4548397, 'boundingbox': ['55.8411263', '55.8540953', '-4.2467644', '-4.2271609'], 'lat': '55.8477254', 'lon': '-4.234414407886948', 'display_name': 'Glasgow Green, Calton, Glasgow, Glasgow City, Scotland, United Kingdom', 'class': 'leisure', 'type': 'park', 'importance': 0.6917760669396329}, {'place_id': 36435668, 'licence': 'Data © OpenStreetMap contributors, ODbL 1.0. https://osm.org/copyright', 'osm_type': 'node', 'osm_id': 2889690341, 'boundingbox': ['55.8493933', '55.8494933', '-4.2338033', '-4.2337033'], 'lat': '55.8494433', 'lon': '-4.2337533', 'display_name': 'Glasgow Green, Templeton Street, Calton, Glasgow, Glasgow City, Scotland, G40 1DW, United Kingdom', 'class': 'amenity', 'type': 'bicycle_rental', 'importance': 0.31100000000000005}]\n",
      "[{'place_id': 5517943, 'licence': 'Data © OpenStreetMap contributors, ODbL 1.0. https://osm.org/copyright', 'osm_type': 'node', 'osm_id': 600576868, 'boundingbox': ['55.8716406', '55.8717406', '-4.2877767', '-4.2876767'], 'lat': '55.8716906', 'lon': '-4.2877267', 'display_name': 'Hunterian Museum, University Avenue, Yorkhill, Hillhead, Glasgow, Glasgow City, Scotland, G12 8LU, United Kingdom', 'class': 'tourism', 'type': 'museum', 'importance': 0.30100000000000005, 'icon': 'https://nominatim.openstreetmap.org/ui/mapicons//tourist_museum.p.20.png'}]\n",
      "[{'place_id': 57340531, 'licence': 'Data © OpenStreetMap contributors, ODbL 1.0. https://osm.org/copyright', 'osm_type': 'node', 'osm_id': 5053329722, 'boundingbox': ['55.8579348', '55.8580348', '-4.2451588', '-4.2450588'], 'lat': '55.8579848', 'lon': '-4.2451088', 'display_name': 'Glasgow Police Museum, 30, Bell Street, Merchant City, Glasgow, Glasgow City, Scotland, G1 1LQ, United Kingdom', 'class': 'tourism', 'type': 'museum', 'importance': 0.411, 'icon': 'https://nominatim.openstreetmap.org/ui/mapicons//tourist_museum.p.20.png'}]\n",
      "[{'place_id': 162821316, 'licence': 'Data © OpenStreetMap contributors, ODbL 1.0. https://osm.org/copyright', 'osm_type': 'way', 'osm_id': 302586257, 'boundingbox': ['55.8600178', '55.8602606', '-4.2334552', '-4.2331081'], 'lat': '55.86014505', 'lon': '-4.233300157419711', 'display_name': 'Drygate, 85, Drygate, Calton, Glasgow, Glasgow City, Scotland, G4 0UP, United Kingdom', 'class': 'craft', 'type': 'brewery', 'importance': 0.21100000000000002}]\n",
      "[{'place_id': 84165770, 'licence': 'Data © OpenStreetMap contributors, ODbL 1.0. https://osm.org/copyright', 'osm_type': 'way', 'osm_id': 4880586, 'boundingbox': ['55.8664095', '55.8721064', '-4.2948374', '-4.2780442'], 'lat': '55.86925425', 'lon': '-4.287296430072205', 'display_name': 'Kelvingrove Park, Park District, Glasgow, Glasgow City, Scotland, United Kingdom', 'class': 'leisure', 'type': 'park', 'importance': 0.6135607691790297}]\n",
      "[{'place_id': 256984205, 'licence': 'Data © OpenStreetMap contributors, ODbL 1.0. https://osm.org/copyright', 'osm_type': 'relation', 'osm_id': 900378, 'boundingbox': ['55.8605387', '55.8613118', '-4.2489754', '-4.2475687'], 'lat': '55.8609173', 'lon': '-4.247877815342897', 'display_name': 'City Chambers, 80, George Square, Merchant City, Glasgow, Glasgow City, Scotland, G2 1DU, United Kingdom', 'class': 'building', 'type': 'yes', 'importance': 0.6176097256349535}]\n",
      "[{'place_id': 74342066, 'licence': 'Data © OpenStreetMap contributors, ODbL 1.0. https://osm.org/copyright', 'osm_type': 'node', 'osm_id': 7018100628, 'boundingbox': ['48.1900173', '48.2000173', '-106.6408663', '-106.6308663'], 'lat': '48.1950173', 'lon': '-106.6358663', 'display_name': 'Glasgow, 424, 1st Avenue South, Glasgow, Valley County, Montana, 59230, United States', 'class': 'railway', 'type': 'station', 'importance': 0.37690363151506784, 'icon': 'https://nominatim.openstreetmap.org/ui/mapicons//transport_train_station2.p.20.png'}, {'place_id': 76778070, 'licence': 'Data © OpenStreetMap contributors, ODbL 1.0. https://osm.org/copyright', 'osm_type': 'node', 'osm_id': 7018100627, 'boundingbox': ['48.1946672', '48.1947672', '-106.6347399', '-106.6346399'], 'lat': '48.1947172', 'lon': '-106.6346899', 'display_name': 'Glasgow, 4th Street South, South Side, Glasgow, Valley County, Montana, 59230, United States', 'class': 'railway', 'type': 'stop', 'importance': 0.21100000000000002}, {'place_id': 75996778, 'licence': 'Data © OpenStreetMap contributors, ODbL 1.0. https://osm.org/copyright', 'osm_type': 'node', 'osm_id': 7018100626, 'boundingbox': ['48.1953732', '48.1954732', '-106.6367565', '-106.6366565'], 'lat': '48.1954232', 'lon': '-106.6367065', 'display_name': 'Glasgow, 1st Avenue South, Glasgow, Valley County, Montana, 59230, United States', 'class': 'railway', 'type': 'stop', 'importance': 0.21100000000000002}]\n",
      "[{'place_id': 108025761, 'licence': 'Data © OpenStreetMap contributors, ODbL 1.0. https://osm.org/copyright', 'osm_type': 'way', 'osm_id': 78414152, 'boundingbox': ['55.8494309', '55.849658', '-4.2740745', '-4.2733336'], 'lat': '55.84952035', 'lon': '-4.273706477103126', 'display_name': 'Scotland Street School Museum, Scotland Street, Port Eglinton, Glasgow, Glasgow City, Scotland, G5 8QB, United Kingdom', 'class': 'tourism', 'type': 'museum', 'importance': 0.8276097256349535, 'icon': 'https://nominatim.openstreetmap.org/ui/mapicons//tourist_museum.p.20.png'}]\n",
      "[{'place_id': 258062405, 'licence': 'Data © OpenStreetMap contributors, ODbL 1.0. https://osm.org/copyright', 'osm_type': 'relation', 'osm_id': 8947642, 'boundingbox': ['55.8658676', '55.8681563', '-4.2673875', '-4.2603706'], 'lat': '55.866305499999996', 'lon': '-4.263902530570013', 'display_name': 'Glasgow School of Art, Rose Street, Blythswood Hill, Glasgow, Glasgow City, Scotland, G3 6RD, United Kingdom', 'class': 'amenity', 'type': 'university', 'importance': 0.9500832536528814, 'icon': 'https://nominatim.openstreetmap.org/ui/mapicons//education_university.p.20.png'}]\n",
      "[{'place_id': 116892470, 'licence': 'Data © OpenStreetMap contributors, ODbL 1.0. https://osm.org/copyright', 'osm_type': 'way', 'osm_id': 116391589, 'boundingbox': ['55.8594416', '55.8597948', '-4.2557455', '-4.2552026'], 'lat': '55.859629350000006', 'lon': '-4.255484378493666', 'display_name': 'The Lighthouse, 11, Mitchell Lane, Blythswood Hill, Glasgow, Glasgow City, Scotland, G1 3NU, United Kingdom', 'class': 'amenity', 'type': 'arts_centre', 'importance': 0.5523442792274319, 'icon': 'https://nominatim.openstreetmap.org/ui/mapicons//tourist_art_gallery2.p.20.png'}]\n",
      "[{'place_id': 31360442, 'licence': 'Data © OpenStreetMap contributors, ODbL 1.0. https://osm.org/copyright', 'osm_type': 'node', 'osm_id': 2789848831, 'boundingbox': ['55.8569692', '55.8570692', '-4.2468549', '-4.2467549'], 'lat': '55.8570192', 'lon': '-4.2468049', 'display_name': 'Sharmanka Kinetic Theatre/Gallery, 103, Trongate, Merchant City, Glasgow, Glasgow City, Scotland, G1 5HD, United Kingdom', 'class': 'tourism', 'type': 'gallery', 'importance': 0.5477880391065013}]\n",
      "[]\n",
      "[{'place_id': 25642222, 'licence': 'Data © OpenStreetMap contributors, ODbL 1.0. https://osm.org/copyright', 'osm_type': 'node', 'osm_id': 2556920731, 'boundingbox': ['55.8671406', '55.8672406', '-4.2623993', '-4.2622993'], 'lat': '55.8671906', 'lon': '-4.2623493', 'display_name': 'Mural, Dalhousie Street, Garnethill, Glasgow, Glasgow City, Scotland, G3 6RG, United Kingdom', 'class': 'tourism', 'type': 'artwork', 'importance': 0.31100000000000005, 'icon': 'https://nominatim.openstreetmap.org/ui/mapicons//tourist_art_gallery2.p.20.png'}]\n",
      "[{'place_id': 98712393, 'licence': 'Data © OpenStreetMap contributors, ODbL 1.0. https://osm.org/copyright', 'osm_type': 'way', 'osm_id': 32661200, 'boundingbox': ['55.8277461', '55.828374', '-4.3190995', '-4.3177753'], 'lat': '55.82806085', 'lon': '-4.318707694783378', 'display_name': 'Pollok House, 2060, Pollokshaws Road, Wellmeadow, Eastwood, Glasgow, Glasgow City, Scotland, G43 1AT, United Kingdom', 'class': 'tourism', 'type': 'museum', 'importance': 0.6071516336244855, 'icon': 'https://nominatim.openstreetmap.org/ui/mapicons//tourist_museum.p.20.png'}]\n",
      "[{'place_id': 108275423, 'licence': 'Data © OpenStreetMap contributors, ODbL 1.0. https://osm.org/copyright', 'osm_type': 'way', 'osm_id': 82117906, 'boundingbox': ['55.8622837', '55.8624377', '-4.2370046', '-4.2368335'], 'lat': '55.862361899999996', 'lon': '-4.236924918319597', 'display_name': \"Provand's Lordship, 3, Castle Street, Townhead, Glasgow, Glasgow City, Scotland, G4 0RB, United Kingdom\", 'class': 'tourism', 'type': 'museum', 'importance': 0.7108383910111853, 'icon': 'https://nominatim.openstreetmap.org/ui/mapicons//tourist_museum.p.20.png'}, {'place_id': 180149688, 'licence': 'Data © OpenStreetMap contributors, ODbL 1.0. https://osm.org/copyright', 'osm_type': 'way', 'osm_id': 387044956, 'boundingbox': ['55.8622491', '55.8624296', '-4.2373654', '-4.2370037'], 'lat': '55.86233905', 'lon': '-4.237178266538336', 'display_name': 'Saint Nicholas Garden, Macleod Street, Townhead, Glasgow, Glasgow City, Scotland, G4 0RB, United Kingdom', 'class': 'leisure', 'type': 'garden', 'importance': 0.201}]\n",
      "[{'place_id': 112574603, 'licence': 'Data © OpenStreetMap contributors, ODbL 1.0. https://osm.org/copyright', 'osm_type': 'way', 'osm_id': 102147476, 'boundingbox': ['55.8549178', '55.8553446', '-4.237113', '-4.2363535'], 'lat': '55.85508395', 'lon': '-4.236735297116207', 'display_name': 'Barrowland Ballroom, 244, Gallowgate, Bellgrove, Calton, Glasgow, Glasgow City, Scotland, G4 0TT, United Kingdom', 'class': 'amenity', 'type': 'theatre', 'importance': 0.622734482343971, 'icon': 'https://nominatim.openstreetmap.org/ui/mapicons//tourist_theatre.p.20.png'}]\n",
      "[{'place_id': 104731481, 'licence': 'Data © OpenStreetMap contributors, ODbL 1.0. https://osm.org/copyright', 'osm_type': 'way', 'osm_id': 58705089, 'boundingbox': ['55.8642013', '55.8648965', '-4.2539284', '-4.2520897'], 'lat': '55.864581349999995', 'lon': '-4.252997538822579', 'display_name': 'Glasgow Royal Concert Hall, Buchanan Street, Cowcaddens, Glasgow, Glasgow City, Scotland, G2 3GF, United Kingdom', 'class': 'amenity', 'type': 'music_venue', 'importance': 0.8395550668207973}]\n",
      "[]\n",
      "[{'place_id': 162463, 'licence': 'Data © OpenStreetMap contributors, ODbL 1.0. https://osm.org/copyright', 'osm_type': 'node', 'osm_id': 30245149, 'boundingbox': ['55.839126', '55.879126', '-4.2663157', '-4.2263157'], 'lat': '55.859126', 'lon': '-4.2463157', 'display_name': 'Merchant City, Glasgow, Glasgow City, Scotland, G1 1DJ, United Kingdom', 'class': 'place', 'type': 'suburb', 'importance': 0.5750000000000001, 'icon': 'https://nominatim.openstreetmap.org/ui/mapicons//poi_place_village.p.20.png'}]\n",
      "[{'place_id': 116418326, 'licence': 'Data © OpenStreetMap contributors, ODbL 1.0. https://osm.org/copyright', 'osm_type': 'way', 'osm_id': 116370220, 'boundingbox': ['55.8589217', '55.8595317', '-4.2544881', '-4.2532567'], 'lat': '55.8591974', 'lon': '-4.253873750292636', 'display_name': 'Princes Square, Buchanan Street, Gorbals, Glasgow, Glasgow City, Scotland, G1 2JN, United Kingdom', 'class': 'shop', 'type': 'mall', 'importance': 0.5423278476590364}, {'place_id': 216805473, 'licence': 'Data © OpenStreetMap contributors, ODbL 1.0. https://osm.org/copyright', 'osm_type': 'way', 'osm_id': 618798185, 'boundingbox': ['55.8346152', '55.8361753', '-4.2762875', '-4.2734866'], 'lat': '55.8348475', 'lon': '-4.2739001', 'display_name': 'Marywood Square, Strathbungo, Glasgow, Glasgow City, Scotland, G41 2BW, United Kingdom', 'class': 'highway', 'type': 'residential', 'importance': 0.3}]\n",
      "[{'place_id': 85146708, 'licence': 'Data © OpenStreetMap contributors, ODbL 1.0. https://osm.org/copyright', 'osm_type': 'way', 'osm_id': 4326895, 'boundingbox': ['55.864696', '55.8653681', '-4.2736445', '-4.2718011'], 'lat': '55.86501235', 'lon': '-4.272722629234252', 'display_name': 'Mitchell Library, North Street, Cranston Hill, Woodlands, Glasgow, Glasgow City, Scotland, G3 8UD, United Kingdom', 'class': 'amenity', 'type': 'library', 'importance': 0.634623598134972, 'icon': 'https://nominatim.openstreetmap.org/ui/mapicons//amenity_library.p.20.png'}, {'place_id': 37128625, 'licence': 'Data © OpenStreetMap contributors, ODbL 1.0. https://osm.org/copyright', 'osm_type': 'node', 'osm_id': 2944397283, 'boundingbox': ['55.8647437', '55.8648437', '-4.2718636', '-4.2717636'], 'lat': '55.8647937', 'lon': '-4.2718136', 'display_name': 'Mitchell Library, Kent Road, Cranston Hill, Sandyford, Glasgow, Glasgow City, Scotland, G3 7EF, United Kingdom', 'class': 'amenity', 'type': 'bicycle_rental', 'importance': 0.30100000000000005}]\n",
      "[]\n",
      "[]\n",
      "[]\n",
      "[]\n",
      "[{'place_id': 108920926, 'licence': 'Data © OpenStreetMap contributors, ODbL 1.0. https://osm.org/copyright', 'osm_type': 'way', 'osm_id': 82117067, 'boundingbox': ['55.8622834', '55.8626208', '-4.2365433', '-4.2359423'], 'lat': '55.862448150000006', 'lon': '-4.23638077847437', 'display_name': 'St Mungo Museum of Religious Life & Art, Cathedral Precinct, Townhead, Glasgow, Glasgow City, Scotland, G4 0RH, United Kingdom', 'class': 'tourism', 'type': 'museum', 'importance': 1.1172524353626239, 'icon': 'https://nominatim.openstreetmap.org/ui/mapicons//tourist_museum.p.20.png'}]\n",
      "[{'place_id': 253370770, 'licence': 'Data © OpenStreetMap contributors, ODbL 1.0. https://osm.org/copyright', 'osm_type': 'way', 'osm_id': 844380674, 'boundingbox': ['55.867896', '55.8715873', '-4.2700243', '-4.2596472'], 'lat': '55.871033', 'lon': '-4.2684216', 'display_name': \"Glasgow Subway, St. George's Road, Woodside, Glasgow, Glasgow City, Scotland, G3 6JP, United Kingdom\", 'class': 'railway', 'type': 'subway', 'importance': 0.31100000000000005}, {'place_id': 253435804, 'licence': 'Data © OpenStreetMap contributors, ODbL 1.0. https://osm.org/copyright', 'osm_type': 'way', 'osm_id': 844380669, 'boundingbox': ['55.8676762', '55.8715873', '-4.2700243', '-4.2591461'], 'lat': '55.8686436', 'lon': '-4.2608856', 'display_name': 'Glasgow Subway, Cowcaddens Road, Garnethill, Glasgow, Glasgow City, Scotland, G4 0SN, United Kingdom', 'class': 'railway', 'type': 'subway', 'importance': 0.31100000000000005}, {'place_id': 305530648, 'licence': 'Data © OpenStreetMap contributors, ODbL 1.0. https://osm.org/copyright', 'osm_type': 'way', 'osm_id': 909371941, 'boundingbox': ['55.8674949', '55.8676762', '-4.2591461', '-4.2588991'], 'lat': '55.8676762', 'lon': '-4.2591461', 'display_name': 'Glasgow Subway, Dundasvale Road, Cowcaddens, Glasgow, Glasgow City, Scotland, G4 0XE, United Kingdom', 'class': 'railway', 'type': 'subway', 'importance': 0.31100000000000005}, {'place_id': 100914077, 'licence': 'Data © OpenStreetMap contributors, ODbL 1.0. https://osm.org/copyright', 'osm_type': 'way', 'osm_id': 39900031, 'boundingbox': ['55.8563663', '55.8758421', '-4.3122421', '-4.2700243'], 'lat': '55.8724016', 'lon': '-4.296975', 'display_name': 'Glasgow Subway, Parkgrove Terrace, Cranston Hill, Sandyford, Glasgow, Glasgow City, Scotland, G3 7SE, United Kingdom', 'class': 'railway', 'type': 'subway', 'importance': 0.31100000000000005}, {'place_id': 253360769, 'licence': 'Data © OpenStreetMap contributors, ODbL 1.0. https://osm.org/copyright', 'osm_type': 'way', 'osm_id': 844460076, 'boundingbox': ['55.8520818', '55.8563663', '-4.3066541', '-4.2940814'], 'lat': '55.8536323', 'lon': '-4.3008047', 'display_name': 'Glasgow Subway, Merrick Gardens, Ibroxholm, Glasgow, Glasgow City, Scotland, G51 2TN, United Kingdom', 'class': 'railway', 'type': 'subway', 'importance': 0.31100000000000005}, {'place_id': 243361453, 'licence': 'Data © OpenStreetMap contributors, ODbL 1.0. https://osm.org/copyright', 'osm_type': 'way', 'osm_id': 780799010, 'boundingbox': ['55.8496827', '55.8674949', '-4.2940814', '-4.2529722'], 'lat': '55.8498904', 'lon': '-4.2687664', 'display_name': 'Glasgow Subway, Woodside Crescent, Cranston Hill, Woodlands, Glasgow, Glasgow City, Scotland, G3 7UL, United Kingdom', 'class': 'railway', 'type': 'subway', 'importance': 0.31100000000000005}]\n",
      "[{'place_id': 102193369, 'licence': 'Data © OpenStreetMap contributors, ODbL 1.0. https://osm.org/copyright', 'osm_type': 'way', 'osm_id': 46738888, 'boundingbox': ['55.8600267', '55.8603242', '-4.2531284', '-4.2521402'], 'lat': '55.860167450000006', 'lon': '-4.252640838697076', 'display_name': 'Gallery of Modern Art, Royal Exchange Square, Merchant City, Glasgow, Glasgow City, Scotland, G1 3AG, United Kingdom', 'class': 'tourism', 'type': 'gallery', 'importance': 0.8539550660685244}]\n",
      "[{'place_id': 104897607, 'licence': 'Data © OpenStreetMap contributors, ODbL 1.0. https://osm.org/copyright', 'osm_type': 'way', 'osm_id': 58706024, 'boundingbox': ['55.8648427', '55.8652019', '-4.2690924', '-4.2683422'], 'lat': '55.86502965', 'lon': '-4.268700382580425', 'display_name': \"The King's Theatre, Bath Lane, Cranston Hill, Garnethill, Glasgow, Glasgow City, Scotland, G2 4JN, United Kingdom\", 'class': 'amenity', 'type': 'theatre', 'importance': 0.511, 'icon': 'https://nominatim.openstreetmap.org/ui/mapicons//tourist_theatre.p.20.png'}]\n",
      "[{'place_id': 107913858, 'licence': 'Data © OpenStreetMap contributors, ODbL 1.0. https://osm.org/copyright', 'osm_type': 'way', 'osm_id': 78405270, 'boundingbox': ['55.8553275', '55.8557039', '-4.2532713', '-4.2526833'], 'lat': '55.8554855', 'lon': '-4.253000238765436', 'display_name': \"St Andrew's Cathedral, Cathedral Cloister Garden, Gorbals, Glasgow, Glasgow City, Scotland, United Kingdom\", 'class': 'amenity', 'type': 'place_of_worship', 'importance': 0.9756185045682937, 'icon': 'https://nominatim.openstreetmap.org/ui/mapicons//place_of_worship_unknown3.p.20.png'}]\n",
      "[{'place_id': 6801112, 'licence': 'Data © OpenStreetMap contributors, ODbL 1.0. https://osm.org/copyright', 'osm_type': 'node', 'osm_id': 721552340, 'boundingbox': ['55.8248773', '55.8249773', '-4.2518278', '-4.2517278'], 'lat': '55.8249273', 'lon': '-4.2517778', 'display_name': 'Scottish Football Museum, Letherby Drive, Mount Florida, Glasgow, Glasgow City, Scotland, G44 4SA, United Kingdom', 'class': 'tourism', 'type': 'museum', 'importance': 0.766107006988616, 'icon': 'https://nominatim.openstreetmap.org/ui/mapicons//tourist_museum.p.20.png'}]\n",
      "[{'place_id': 311143069, 'licence': 'Data © OpenStreetMap contributors, ODbL 1.0. https://osm.org/copyright', 'osm_type': 'way', 'osm_id': 922860604, 'boundingbox': ['55.8600765', '55.8683829', '-4.3260321', '-4.2956161'], 'lat': '55.864846', 'lon': '-4.309172', 'display_name': 'River Clyde, Kelvinhaugh, Glasgow, Glasgow City, Scotland, G11 6ED, United Kingdom', 'class': 'waterway', 'type': 'river', 'importance': 0.5750000000000001}, {'place_id': 257021312, 'licence': 'Data © OpenStreetMap contributors, ODbL 1.0. https://osm.org/copyright', 'osm_type': 'relation', 'osm_id': 1288901, 'boundingbox': ['55.7791555', '55.8468566', '-4.2408321', '-4.0007296'], 'lat': '55.8129256', 'lon': '-4.095150909157651', 'display_name': 'River Clyde, Dalmarnock, Glasgow, Glasgow City, Scotland, United Kingdom', 'class': 'natural', 'type': 'water', 'importance': 0.5}, {'place_id': 103166033, 'licence': 'Data © OpenStreetMap contributors, ODbL 1.0. https://osm.org/copyright', 'osm_type': 'way', 'osm_id': 51105084, 'boundingbox': ['55.8465091', '55.8523584', '-4.2460849', '-4.2363777'], 'lat': '55.84944635', 'lon': '-4.239727772179335', 'display_name': 'River Clyde, Hutchesontown, Glasgow, Glasgow City, Scotland, United Kingdom', 'class': 'natural', 'type': 'water', 'importance': 0.5}, {'place_id': 257152789, 'licence': 'Data © OpenStreetMap contributors, ODbL 1.0. https://osm.org/copyright', 'osm_type': 'relation', 'osm_id': 2266953, 'boundingbox': ['55.8517361', '55.8690473', '-4.3260992', '-4.2453478'], 'lat': '55.860405', 'lon': '-4.2968245281065265', 'display_name': 'River Clyde, Gorbals, Glasgow, Glasgow City, Scotland, United Kingdom', 'class': 'natural', 'type': 'water', 'importance': 0.5}]\n",
      "[{'place_id': 57189273, 'licence': 'Data © OpenStreetMap contributors, ODbL 1.0. https://osm.org/copyright', 'osm_type': 'node', 'osm_id': 4915702269, 'boundingbox': ['55.8730464', '55.8731464', '-4.2888202', '-4.2887202'], 'lat': '55.8730964', 'lon': '-4.2887702', 'display_name': 'Hunterian Art Gallery, Hillhead Street, Yorkhill, Hillhead, Glasgow, Glasgow City, Scotland, G12 8QF, United Kingdom', 'class': 'tourism', 'type': 'gallery', 'importance': 0.401}]\n",
      "[]\n",
      "[{'place_id': 87412753, 'licence': 'Data © OpenStreetMap contributors, ODbL 1.0. https://osm.org/copyright', 'osm_type': 'way', 'osm_id': 8658199, 'boundingbox': ['55.8247112', '55.8268032', '-4.2542866', '-4.2496599'], 'lat': '55.82574505', 'lon': '-4.251978794467953', 'display_name': 'Hampden Park, Letherby Drive, Mount Florida, Glasgow, Glasgow City, Scotland, G42 9BA, United Kingdom', 'class': 'leisure', 'type': 'stadium', 'importance': 0.8533919273600415}]\n",
      "[{'place_id': 108024183, 'licence': 'Data © OpenStreetMap contributors, ODbL 1.0. https://osm.org/copyright', 'osm_type': 'way', 'osm_id': 78405248, 'boundingbox': ['55.8545198', '55.8548104', '-4.2349523', '-4.2343366'], 'lat': '55.85466475', 'lon': '-4.23464723674811', 'display_name': \"Saint Luke's, 17, Bain Street, Calton, Glasgow, Glasgow City, Scotland, G40 2JZ, United Kingdom\", 'class': 'amenity', 'type': 'theatre', 'importance': 0.401, 'icon': 'https://nominatim.openstreetmap.org/ui/mapicons//tourist_theatre.p.20.png'}]\n",
      "[]\n",
      "[{'place_id': 46793053, 'licence': 'Data © OpenStreetMap contributors, ODbL 1.0. https://osm.org/copyright', 'osm_type': 'node', 'osm_id': 3791239455, 'boundingbox': ['55.8640479', '55.8641479', '-4.3201536', '-4.3200536'], 'lat': '55.8640979', 'lon': '-4.3201036', 'display_name': 'Fairfield Heritage Centre, 1048, Govan Road, BAE Systems, Govan, Glasgow, Glasgow City, Scotland, G51 4XS, United Kingdom', 'class': 'tourism', 'type': 'museum', 'importance': 0.30100000000000005, 'icon': 'https://nominatim.openstreetmap.org/ui/mapicons//tourist_museum.p.20.png'}]\n",
      "[{'place_id': 108490757, 'licence': 'Data © OpenStreetMap contributors, ODbL 1.0. https://osm.org/copyright', 'osm_type': 'way', 'osm_id': 82056028, 'boundingbox': ['55.8690244', '55.8743585', '-4.1402804', '-4.1317622'], 'lat': '55.871871', 'lon': '-4.137561830476217', 'display_name': 'Glasgow Fort, Garthamlock, Glasgow, Glasgow City, Scotland, United Kingdom', 'class': 'landuse', 'type': 'retail', 'importance': 0.5602548452552094}, {'place_id': 122204733, 'licence': 'Data © OpenStreetMap contributors, ODbL 1.0. https://osm.org/copyright', 'osm_type': 'way', 'osm_id': 138582206, 'boundingbox': ['55.8727325', '55.8731809', '-4.1345216', '-4.1327517'], 'lat': '55.8729267', 'lon': '-4.133666', 'display_name': 'Glasgow Fort, Provanhall, Glasgow, Glasgow City, Scotland, G34 9DL, United Kingdom', 'class': 'highway', 'type': 'service', 'importance': 0.385}, {'place_id': 96778766, 'licence': 'Data © OpenStreetMap contributors, ODbL 1.0. https://osm.org/copyright', 'osm_type': 'way', 'osm_id': 29376110, 'boundingbox': ['55.8697497', '55.8732398', '-4.1390356', '-4.1329324'], 'lat': '55.872488', 'lon': '-4.1374691', 'display_name': 'Glasgow Fort, Provanhall, Glasgow, Glasgow City, Scotland, G34 9DL, United Kingdom', 'class': 'highway', 'type': 'footway', 'importance': 0.385}, {'place_id': 105660950, 'licence': 'Data © OpenStreetMap contributors, ODbL 1.0. https://osm.org/copyright', 'osm_type': 'way', 'osm_id': 62993808, 'boundingbox': ['55.871245', '55.8713405', '-4.1404648', '-4.138988'], 'lat': '55.871245', 'lon': '-4.1399354', 'display_name': 'Glasgow Fort, Garthamlock, Glasgow, Glasgow City, Scotland, G34 9DY, United Kingdom', 'class': 'highway', 'type': 'footway', 'importance': 0.385}]\n",
      "[{'place_id': 99873972, 'licence': 'Data © OpenStreetMap contributors, ODbL 1.0. https://osm.org/copyright', 'osm_type': 'way', 'osm_id': 37606665, 'boundingbox': ['55.8626301', '55.8647175', '-4.2531428', '-4.2492023'], 'lat': '55.86373955', 'lon': '-4.251950994180778', 'display_name': 'Buchanan Galleries, Cathedral Street, Cowcaddens, Glasgow, Glasgow City, Scotland, G2 1HS, United Kingdom', 'class': 'shop', 'type': 'mall', 'importance': 0.30100000000000005}, {'place_id': 110983772, 'licence': 'Data © OpenStreetMap contributors, ODbL 1.0. https://osm.org/copyright', 'osm_type': 'way', 'osm_id': 95427140, 'boundingbox': ['55.8634628', '55.8644691', '-4.2508308', '-4.2492087'], 'lat': '55.864024650000005', 'lon': '-4.250048811852103', 'display_name': 'Buchanan Galleries, North Hanover Street, Merchant City, Glasgow, Glasgow City, Scotland, G1 2BG, United Kingdom', 'class': 'amenity', 'type': 'parking', 'importance': 0.30100000000000005}]\n",
      "[{'place_id': 104754840, 'licence': 'Data © OpenStreetMap contributors, ODbL 1.0. https://osm.org/copyright', 'osm_type': 'way', 'osm_id': 58705687, 'boundingbox': ['55.8658622', '55.8666839', '-4.2566512', '-4.255753'], 'lat': '55.8661555', 'lon': '-4.25622006423323', 'display_name': 'Theatre Royal, Hope Street, Cowcaddens, Glasgow, Glasgow City, Scotland, G2 3QA, United Kingdom', 'class': 'amenity', 'type': 'theatre', 'importance': 0.6237102135308571, 'icon': 'https://nominatim.openstreetmap.org/ui/mapicons//tourist_theatre.p.20.png'}]\n",
      "[{'place_id': 114382770, 'licence': 'Data © OpenStreetMap contributors, ODbL 1.0. https://osm.org/copyright', 'osm_type': 'way', 'osm_id': 109705405, 'boundingbox': ['55.866262', '55.8665041', '-4.2723555', '-4.2716293'], 'lat': '55.8663979', 'lon': '-4.2719255', 'display_name': 'Sauchiehall Street, Cranston Hill, Woodlands, Glasgow, Glasgow City, Scotland, G3 7UJ, United Kingdom', 'class': 'highway', 'type': 'tertiary', 'importance': 0.4}, {'place_id': 104243117, 'licence': 'Data © OpenStreetMap contributors, ODbL 1.0. https://osm.org/copyright', 'osm_type': 'way', 'osm_id': 52114857, 'boundingbox': ['55.8657173', '55.866009', '-4.2802567', '-4.2763135'], 'lat': '55.8658463', 'lon': '-4.2787731', 'display_name': 'Sauchiehall Street, Cranston Hill, Sandyford, Glasgow, Glasgow City, Scotland, G3 7NB, United Kingdom', 'class': 'highway', 'type': 'tertiary', 'importance': 0.4}, {'place_id': 84217167, 'licence': 'Data © OpenStreetMap contributors, ODbL 1.0. https://osm.org/copyright', 'osm_type': 'way', 'osm_id': 4764306, 'boundingbox': ['55.8662752', '55.8663009', '-4.2711668', '-4.2706613'], 'lat': '55.866297', 'lon': '-4.2709963', 'display_name': 'Sauchiehall Street, Cranston Hill, Woodlands, Glasgow, Glasgow City, Scotland, G2 3LX, United Kingdom', 'class': 'highway', 'type': 'tertiary', 'importance': 0.4}, {'place_id': 84909484, 'licence': 'Data © OpenStreetMap contributors, ODbL 1.0. https://osm.org/copyright', 'osm_type': 'way', 'osm_id': 4764303, 'boundingbox': ['55.866009', '55.8662818', '-4.2763135', '-4.2716363'], 'lat': '55.8661636', 'lon': '-4.2739579', 'display_name': 'Sauchiehall Street, Cranston Hill, Sandyford, Glasgow, Glasgow City, Scotland, G3 7PQ, United Kingdom', 'class': 'highway', 'type': 'tertiary', 'importance': 0.4}, {'place_id': 174486568, 'licence': 'Data © OpenStreetMap contributors, ODbL 1.0. https://osm.org/copyright', 'osm_type': 'way', 'osm_id': 361218133, 'boundingbox': ['55.8652254', '55.8653945', '-4.2632043', '-4.2617629'], 'lat': '55.8652254', 'lon': '-4.2617629', 'display_name': 'Sauchiehall Street, Garnethill, Glasgow, Glasgow City, Scotland, G2 3EX, United Kingdom', 'class': 'highway', 'type': 'tertiary', 'importance': 0.4}, {'place_id': 148500777, 'licence': 'Data © OpenStreetMap contributors, ODbL 1.0. https://osm.org/copyright', 'osm_type': 'way', 'osm_id': 237046751, 'boundingbox': ['55.8657527', '55.8662752', '-4.2706613', '-4.2663441'], 'lat': '55.8659703', 'lon': '-4.2681423', 'display_name': 'Sauchiehall Street, Cranston Hill, Garnethill, Glasgow, Glasgow City, Scotland, G2 3LX, United Kingdom', 'class': 'highway', 'type': 'tertiary', 'importance': 0.4}, {'place_id': 139052468, 'licence': 'Data © OpenStreetMap contributors, ODbL 1.0. https://osm.org/copyright', 'osm_type': 'way', 'osm_id': 205820313, 'boundingbox': ['55.8656502', '55.8657527', '-4.2663441', '-4.2654546'], 'lat': '55.8656502', 'lon': '-4.2654546', 'display_name': 'Sauchiehall Street, Cranston Hill, Garnethill, Glasgow, Glasgow City, Scotland, G2 3HU, United Kingdom', 'class': 'highway', 'type': 'tertiary', 'importance': 0.4}, {'place_id': 138769947, 'licence': 'Data © OpenStreetMap contributors, ODbL 1.0. https://osm.org/copyright', 'osm_type': 'way', 'osm_id': 204866197, 'boundingbox': ['55.8653945', '55.8656502', '-4.2654546', '-4.2632043'], 'lat': '55.8655577', 'lon': '-4.2646787', 'display_name': 'Sauchiehall Street, Garnethill, Glasgow, Glasgow City, Scotland, G2 3JD, United Kingdom', 'class': 'highway', 'type': 'tertiary', 'importance': 0.4}, {'place_id': 84126551, 'licence': 'Data © OpenStreetMap contributors, ODbL 1.0. https://osm.org/copyright', 'osm_type': 'way', 'osm_id': 4764302, 'boundingbox': ['55.8674', '55.8676756', '-4.2913066', '-4.2904996'], 'lat': '55.8676756', 'lon': '-4.2913066', 'display_name': 'Sauchiehall Street, Yorkhill, Stobcross, Glasgow, Glasgow City, Scotland, G3 7UE, United Kingdom', 'class': 'highway', 'type': 'tertiary', 'importance': 0.4}, {'place_id': 173443838, 'licence': 'Data © OpenStreetMap contributors, ODbL 1.0. https://osm.org/copyright', 'osm_type': 'way', 'osm_id': 354340064, 'boundingbox': ['55.865432', '55.8674', '-4.2904996', '-4.2802567'], 'lat': '55.8657346', 'lon': '-4.2850766', 'display_name': 'Sauchiehall Street, Cranston Hill, Sandyford, Glasgow, Glasgow City, Scotland, G3 7TH, United Kingdom', 'class': 'highway', 'type': 'tertiary', 'importance': 0.4}]\n",
      "[{'place_id': 228582325, 'licence': 'Data © OpenStreetMap contributors, ODbL 1.0. https://osm.org/copyright', 'osm_type': 'way', 'osm_id': 692629069, 'boundingbox': ['55.8157728', '55.8240651', '-4.3470004', '-4.3363681'], 'lat': '55.81989435', 'lon': '-4.341800769911504', 'display_name': 'Silverburn, Priesthill, Glasgow, Glasgow City, Scotland, United Kingdom', 'class': 'landuse', 'type': 'retail', 'importance': 0.41}, {'place_id': 102408, 'licence': 'Data © OpenStreetMap contributors, ODbL 1.0. https://osm.org/copyright', 'osm_type': 'node', 'osm_id': 378662, 'boundingbox': ['55.8170343', '55.8171343', '-4.3368575', '-4.3367575'], 'lat': '55.8170843', 'lon': '-4.3368075', 'display_name': 'Silverburn, M77, Kennishead Flats, Kennishead, Glasgow, Glasgow City, Scotland, G53 7QA, United Kingdom', 'class': 'highway', 'type': 'motorway_junction', 'importance': 0.21100000000000002}]\n",
      "[{'place_id': 35435475, 'licence': 'Data © OpenStreetMap contributors, ODbL 1.0. https://osm.org/copyright', 'osm_type': 'node', 'osm_id': 2889678550, 'boundingbox': ['55.846358', '55.846458', '-4.2080663', '-4.2079663'], 'lat': '55.846408', 'lon': '-4.2080163', 'display_name': 'Emirates Arena, Bogside Street, Barrowfield, Dalmarnock, Glasgow, Glasgow City, Scotland, G40 3LG, United Kingdom', 'class': 'amenity', 'type': 'bicycle_rental', 'importance': 0.30100000000000005}, {'place_id': 126415585, 'licence': 'Data © OpenStreetMap contributors, ODbL 1.0. https://osm.org/copyright', 'osm_type': 'way', 'osm_id': 156831893, 'boundingbox': ['55.8456949', '55.8473305', '-4.2079196', '-4.2054284'], 'lat': '55.84646725', 'lon': '-4.206590393145571', 'display_name': 'Commonwealth Arena, 1000, London Road, Barrowfield, Parkhead, Glasgow, Glasgow City, Scotland, G40 3HG, United Kingdom', 'class': 'leisure', 'type': 'sports_centre', 'importance': 0.201, 'icon': 'https://nominatim.openstreetmap.org/ui/mapicons//sport_leisure_centre.p.20.png'}]\n",
      "[]\n",
      "[{'place_id': 120092320, 'licence': 'Data © OpenStreetMap contributors, ODbL 1.0. https://osm.org/copyright', 'osm_type': 'way', 'osm_id': 129856533, 'boundingbox': ['55.8801503', '55.8804673', '-4.2721722', '-4.2714767'], 'lat': '55.8802974', 'lon': '-4.271897761523258', 'display_name': \"The Mackintosh Church, Queen's Cross, 870, Garscube Road, Firhill, Springbank, Glasgow, Glasgow City, Scotland, G20 7EL, United Kingdom\", 'class': 'amenity', 'type': 'place_of_worship', 'importance': 0.739862222899095, 'icon': 'https://nominatim.openstreetmap.org/ui/mapicons//place_of_worship_unknown3.p.20.png'}]\n",
      "[{'place_id': 108430025, 'licence': 'Data © OpenStreetMap contributors, ODbL 1.0. https://osm.org/copyright', 'osm_type': 'way', 'osm_id': 78405233, 'boundingbox': ['55.8547382', '55.855103', '-4.2433319', '-4.2426782'], 'lat': '55.854930949999996', 'lon': '-4.243028111914748', 'display_name': \"St Andrew's in the Square, St Andrew's Square, Merchant City, Glasgow, Glasgow City, Scotland, G1 5PQ, United Kingdom\", 'class': 'amenity', 'type': 'arts_centre', 'importance': 0.8325495348933462, 'icon': 'https://nominatim.openstreetmap.org/ui/mapicons//tourist_art_gallery2.p.20.png'}]\n",
      "[{'place_id': 116024669, 'licence': 'Data © OpenStreetMap contributors, ODbL 1.0. https://osm.org/copyright', 'osm_type': 'way', 'osm_id': 115356991, 'boundingbox': ['55.8567872', '55.8568442', '-4.2436892', '-4.2435936'], 'lat': '55.856815499999996', 'lon': '-4.243641030827762', 'display_name': 'Tolbooth Steeple, High Street, Merchant City, Glasgow, Glasgow City, Scotland, G1 1LX, United Kingdom', 'class': 'man_made', 'type': 'tower', 'importance': 0.30100000000000005}]\n",
      "[{'place_id': 233132644, 'licence': 'Data © OpenStreetMap contributors, ODbL 1.0. https://osm.org/copyright', 'osm_type': 'way', 'osm_id': 719946602, 'boundingbox': ['55.8096503', '55.8099009', '-4.25943', '-4.2587786'], 'lat': '55.8097638', 'lon': '-4.259096316347481', 'display_name': 'Holmwood House, 61-63, Netherlee Road, Cathcart, Glasgow, Glasgow City, Scotland, G44 3YU, United Kingdom', 'class': 'tourism', 'type': 'attraction', 'importance': 0.5832082617679253, 'icon': 'https://nominatim.openstreetmap.org/ui/mapicons//poi_point_of_interest.p.20.png'}, {'place_id': 245043674, 'licence': 'Data © OpenStreetMap contributors, ODbL 1.0. https://osm.org/copyright', 'osm_type': 'way', 'osm_id': 791502430, 'boundingbox': ['55.8093832', '55.811285', '-4.2609435', '-4.2573614'], 'lat': '55.81032055', 'lon': '-4.2587121652078785', 'display_name': 'Holmwood House, Cathcart, Glasgow, Glasgow City, Scotland, G44 3YU, United Kingdom', 'class': 'leisure', 'type': 'park', 'importance': 0.45000000000000007}]\n",
      "[{'place_id': 82940430, 'licence': 'Data © OpenStreetMap contributors, ODbL 1.0. https://osm.org/copyright', 'osm_type': 'way', 'osm_id': 4592178, 'boundingbox': ['55.8410037', '55.8492223', '-4.3268779', '-4.3097552'], 'lat': '55.84499355', 'lon': '-4.317881868954009', 'display_name': 'Bellahouston Park, Hazelwood, Glasgow, Glasgow City, Scotland, United Kingdom', 'class': 'leisure', 'type': 'park', 'importance': 0.5773340667019617}]\n",
      "[]\n",
      "[{'place_id': 144612470, 'licence': 'Data © OpenStreetMap contributors, ODbL 1.0. https://osm.org/copyright', 'osm_type': 'way', 'osm_id': 222709055, 'boundingbox': ['55.8591898', '55.8593013', '-4.2962449', '-4.2960454'], 'lat': '55.85924665', 'lon': '-4.2961450716321234', 'display_name': 'Glasgow Tower, Stobcross Road, Scottish Event Campus, Stobcross, Glasgow, Glasgow City, Scotland, G3 8QQ, United Kingdom', 'class': 'man_made', 'type': 'tower', 'importance': 0.5357940944999784}]\n",
      "[]\n",
      "[{'place_id': 107701, 'licence': 'Data © OpenStreetMap contributors, ODbL 1.0. https://osm.org/copyright', 'osm_type': 'node', 'osm_id': 11127374, 'boundingbox': ['55.7009825', '56.0209825', '-4.4088787', '-4.0888787'], 'lat': '55.8609825', 'lon': '-4.2488787', 'display_name': 'Glasgow, Glasgow City, Scotland, G2 9SD, United Kingdom', 'class': 'place', 'type': 'city', 'importance': 0.8990524930369717, 'icon': 'https://nominatim.openstreetmap.org/ui/mapicons//poi_place_city.p.20.png'}, {'place_id': 95908841, 'licence': 'Data © OpenStreetMap contributors, ODbL 1.0. https://osm.org/copyright', 'osm_type': 'way', 'osm_id': 26624925, 'boundingbox': ['55.8699676', '55.8751844', '-4.2955021', '-4.2836373'], 'lat': '55.872315349999994', 'lon': '-4.289219112981823', 'display_name': 'University of Glasgow, University Avenue, Hillhead, Glasgow, Glasgow City, Scotland, G12 8LX, United Kingdom', 'class': 'amenity', 'type': 'university', 'importance': 0.7725498543100822, 'icon': 'https://nominatim.openstreetmap.org/ui/mapicons//education_university.p.20.png'}, {'place_id': 258062405, 'licence': 'Data © OpenStreetMap contributors, ODbL 1.0. https://osm.org/copyright', 'osm_type': 'relation', 'osm_id': 8947642, 'boundingbox': ['55.8658676', '55.8681563', '-4.2673875', '-4.2603706'], 'lat': '55.866305499999996', 'lon': '-4.263902530570013', 'display_name': 'Glasgow School of Art, Rose Street, Blythswood Hill, Glasgow, Glasgow City, Scotland, G3 6RD, United Kingdom', 'class': 'amenity', 'type': 'university', 'importance': 0.6500832536528813, 'icon': 'https://nominatim.openstreetmap.org/ui/mapicons//education_university.p.20.png'}, {'place_id': 85266593, 'licence': 'Data © OpenStreetMap contributors, ODbL 1.0. https://osm.org/copyright', 'osm_type': 'way', 'osm_id': 4570717, 'boundingbox': ['55.8657077', '55.8686957', '-4.2523451', '-4.2479549'], 'lat': '55.86746635', 'lon': '-4.250245389417843', 'display_name': 'Glasgow Caledonian University, Cowcaddens Road, Cowcaddens, Glasgow, Glasgow City, Scotland, G2 3NW, United Kingdom', 'class': 'amenity', 'type': 'university', 'importance': 0.6478454459386824, 'icon': 'https://nominatim.openstreetmap.org/ui/mapicons//education_university.p.20.png'}, {'place_id': 66671303, 'licence': 'Data © OpenStreetMap contributors, ODbL 1.0. https://osm.org/copyright', 'osm_type': 'node', 'osm_id': 6099815862, 'boundingbox': ['55.8536458', '55.8636458', '-4.2647531', '-4.2547531'], 'lat': '55.8586458', 'lon': '-4.2597531', 'display_name': 'Glasgow Central Low Level, Argyle Street, Blythswood Holm, Glasgow, Glasgow City, Scotland, G2 8DP, United Kingdom', 'class': 'railway', 'type': 'station', 'importance': 0.6232091430837645, 'icon': 'https://nominatim.openstreetmap.org/ui/mapicons//transport_train_station2.p.20.png'}, {'place_id': 68895642, 'licence': 'Data © OpenStreetMap contributors, ODbL 1.0. https://osm.org/copyright', 'osm_type': 'node', 'osm_id': 6099806145, 'boundingbox': ['55.8544071', '55.8644071', '-4.262852', '-4.252852'], 'lat': '55.8594071', 'lon': '-4.257852', 'display_name': 'Glasgow Central, Union Street, Blythswood Hill, Glasgow, Glasgow City, Scotland, G1 3TA, United Kingdom', 'class': 'railway', 'type': 'station', 'importance': 0.6232091430837645, 'icon': 'https://nominatim.openstreetmap.org/ui/mapicons//transport_train_station2.p.20.png'}, {'place_id': 93415289, 'licence': 'Data © OpenStreetMap contributors, ODbL 1.0. https://osm.org/copyright', 'osm_type': 'way', 'osm_id': 22925660, 'boundingbox': ['55.8565891', '55.860336', '-4.2593081', '-4.2573201'], 'lat': '55.858465699999996', 'lon': '-4.258281152154495', 'display_name': 'Glasgow Central, Broomielaw, Blythswood Holm, Glasgow, Glasgow City, Scotland, G1 4QP, United Kingdom', 'class': 'building', 'type': 'train_station', 'importance': 0.6232091430837645}, {'place_id': 257117169, 'licence': 'Data © OpenStreetMap contributors, ODbL 1.0. https://osm.org/copyright', 'osm_type': 'relation', 'osm_id': 2021428, 'boundingbox': ['45.5649738', '45.6069276', '-62.669087', '-62.6242773'], 'lat': '45.5869474', 'lon': '-62.6483547', 'display_name': 'New Glasgow, Town of New Glasgow, Pictou County, Nova Scotia, Canada', 'class': 'boundary', 'type': 'administrative', 'importance': 0.6215992956191816, 'icon': 'https://nominatim.openstreetmap.org/ui/mapicons//poi_boundary_administrative.p.20.png'}, {'place_id': 68308262, 'licence': 'Data © OpenStreetMap contributors, ODbL 1.0. https://osm.org/copyright', 'osm_type': 'node', 'osm_id': 6100307820, 'boundingbox': ['55.8577973', '55.8677973', '-4.2560802', '-4.2460802'], 'lat': '55.8627973', 'lon': '-4.2510802', 'display_name': 'Glasgow Queen Street, Cathedral Street, Merchant City, Glasgow, Glasgow City, Scotland, G1 2AQ, United Kingdom', 'class': 'railway', 'type': 'station', 'importance': 0.6201907576736057, 'icon': 'https://nominatim.openstreetmap.org/ui/mapicons//transport_train_station2.p.20.png'}, {'place_id': 68308225, 'licence': 'Data © OpenStreetMap contributors, ODbL 1.0. https://osm.org/copyright', 'osm_type': 'node', 'osm_id': 6100309416, 'boundingbox': ['55.857403', '55.867403', '-4.2556835', '-4.2456835'], 'lat': '55.862403', 'lon': '-4.2506835', 'display_name': 'Glasgow Queen Street Low Level, George Square, Merchant City, Glasgow, Glasgow City, Scotland, G2 1DS, United Kingdom', 'class': 'railway', 'type': 'station', 'importance': 0.6201907576736057, 'icon': 'https://nominatim.openstreetmap.org/ui/mapicons//transport_train_station2.p.20.png'}]\n",
      "[{'place_id': 85532463, 'licence': 'Data © OpenStreetMap contributors, ODbL 1.0. https://osm.org/copyright', 'osm_type': 'way', 'osm_id': 5299237, 'boundingbox': ['55.8561728', '55.8580436', '-4.2551645', '-4.2508964'], 'lat': '55.857111', 'lon': '-4.253750155819624', 'display_name': 'St Enoch Shopping Centre, Stockwell Place, Gorbals, Glasgow, Glasgow City, Scotland, G1 4HF, United Kingdom', 'class': 'shop', 'type': 'mall', 'importance': 0.7469815592908572}]\n",
      "[{'place_id': 67436772, 'licence': 'Data © OpenStreetMap contributors, ODbL 1.0. https://osm.org/copyright', 'osm_type': 'node', 'osm_id': 5961293055, 'boundingbox': ['55.8620878', '55.8621878', '-4.2533785', '-4.2532785'], 'lat': '55.8621378', 'lon': '-4.2533285', 'display_name': 'VisitScotland Glasgow iCentre, 156a/158, Buchanan Street, Cowcaddens, Glasgow, Glasgow City, Scotland, G1 2LL, United Kingdom', 'class': 'tourism', 'type': 'information', 'importance': 0.411, 'icon': 'https://nominatim.openstreetmap.org/ui/mapicons//amenity_information.p.20.png'}]\n",
      "[{'place_id': 210536725, 'licence': 'Data © OpenStreetMap contributors, ODbL 1.0. https://osm.org/copyright', 'osm_type': 'way', 'osm_id': 570557220, 'boundingbox': ['55.8566482', '55.857724', '-4.2840545', '-4.2814481'], 'lat': '55.8572243', 'lon': '-4.282608203576512', 'display_name': 'Clyde Arc, Finnieston Street, Cranston Hill, Finnieston, Glasgow, Glasgow City, Scotland, G3 8HE, United Kingdom', 'class': 'man_made', 'type': 'bridge', 'importance': 0.5766454293771893}, {'place_id': 88599058, 'licence': 'Data © OpenStreetMap contributors, ODbL 1.0. https://osm.org/copyright', 'osm_type': 'way', 'osm_id': 12790898, 'boundingbox': ['55.8562718', '55.8565175', '-4.2846623', '-4.2841393'], 'lat': '55.8563249', 'lon': '-4.2845538', 'display_name': 'Clyde Arc, Cranston Hill, Plantation, Glasgow, Glasgow City, Scotland, G51 1AY, United Kingdom', 'class': 'highway', 'type': 'tertiary', 'importance': 0.4}, {'place_id': 82775493, 'licence': 'Data © OpenStreetMap contributors, ODbL 1.0. https://osm.org/copyright', 'osm_type': 'way', 'osm_id': 4287346, 'boundingbox': ['55.8565175', '55.8576789', '-4.2841393', '-4.2817046'], 'lat': '55.8574815', 'lon': '-4.2819378', 'display_name': 'Clyde Arc, Cranston Hill, Plantation, Glasgow, Glasgow City, Scotland, G51 1HR, United Kingdom', 'class': 'highway', 'type': 'tertiary', 'importance': 0.4}, {'place_id': 183283673, 'licence': 'Data © OpenStreetMap contributors, ODbL 1.0. https://osm.org/copyright', 'osm_type': 'way', 'osm_id': 404158548, 'boundingbox': ['55.8577091', '55.8578064', '-4.2818156', '-4.2816304'], 'lat': '55.857744', 'lon': '-4.2817759', 'display_name': 'Clyde Arc, Cranston Hill, Finnieston, Glasgow, Glasgow City, Scotland, G3 8HE, United Kingdom', 'class': 'highway', 'type': 'tertiary', 'importance': 0.4}]\n",
      "[{'place_id': 108920926, 'licence': 'Data © OpenStreetMap contributors, ODbL 1.0. https://osm.org/copyright', 'osm_type': 'way', 'osm_id': 82117067, 'boundingbox': ['55.8622834', '55.8626208', '-4.2365433', '-4.2359423'], 'lat': '55.862448150000006', 'lon': '-4.23638077847437', 'display_name': 'St Mungo Museum of Religious Life & Art, Cathedral Precinct, Townhead, Glasgow, Glasgow City, Scotland, G4 0RH, United Kingdom', 'class': 'tourism', 'type': 'museum', 'importance': 0.7172524353626237, 'icon': 'https://nominatim.openstreetmap.org/ui/mapicons//tourist_museum.p.20.png'}, {'place_id': 6801112, 'licence': 'Data © OpenStreetMap contributors, ODbL 1.0. https://osm.org/copyright', 'osm_type': 'node', 'osm_id': 721552340, 'boundingbox': ['55.8248773', '55.8249773', '-4.2518278', '-4.2517278'], 'lat': '55.8249273', 'lon': '-4.2517778', 'display_name': 'Scottish Football Museum, Letherby Drive, Mount Florida, Glasgow, Glasgow City, Scotland, G44 4SA, United Kingdom', 'class': 'tourism', 'type': 'museum', 'importance': 0.6661070069886159, 'icon': 'https://nominatim.openstreetmap.org/ui/mapicons//tourist_museum.p.20.png'}, {'place_id': 96555166, 'licence': 'Data © OpenStreetMap contributors, ODbL 1.0. https://osm.org/copyright', 'osm_type': 'way', 'osm_id': 26605473, 'boundingbox': ['55.8679676', '55.8691987', '-4.2915201', '-4.2897375'], 'lat': '55.8685825', 'lon': '-4.290627759615381', 'display_name': 'Kelvingrove Art Gallery and Museum, Argyle Street, Yorkhill, Kelvinhaugh, Glasgow, Glasgow City, Scotland, G3 8AG, United Kingdom', 'class': 'tourism', 'type': 'museum', 'importance': 0.6171584767702771, 'icon': 'https://nominatim.openstreetmap.org/ui/mapicons//tourist_museum.p.20.png'}, {'place_id': 108025761, 'licence': 'Data © OpenStreetMap contributors, ODbL 1.0. https://osm.org/copyright', 'osm_type': 'way', 'osm_id': 78414152, 'boundingbox': ['55.8494309', '55.849658', '-4.2740745', '-4.2733336'], 'lat': '55.84952035', 'lon': '-4.273706477103126', 'display_name': 'Scotland Street School Museum, Scotland Street, Port Eglinton, Glasgow, Glasgow City, Scotland, G5 8QB, United Kingdom', 'class': 'tourism', 'type': 'museum', 'importance': 0.5176097256349534, 'icon': 'https://nominatim.openstreetmap.org/ui/mapicons//tourist_museum.p.20.png'}, {'place_id': 108801237, 'licence': 'Data © OpenStreetMap contributors, ODbL 1.0. https://osm.org/copyright', 'osm_type': 'way', 'osm_id': 85474432, 'boundingbox': ['55.8676962', '55.8692853', '-4.2961967', '-4.2926742'], 'lat': '55.8685321', 'lon': '-4.294295312007534', 'display_name': 'Kelvin Hall, 1445, Argyle Street, Yorkhill, Kelvinhaugh, Glasgow, Glasgow City, Scotland, G3 8AW, United Kingdom', 'class': 'tourism', 'type': 'museum', 'importance': 0.4380411950818732, 'icon': 'https://nominatim.openstreetmap.org/ui/mapicons//tourist_museum.p.20.png'}, {'place_id': 113195961, 'licence': 'Data © OpenStreetMap contributors, ODbL 1.0. https://osm.org/copyright', 'osm_type': 'way', 'osm_id': 101931683, 'boundingbox': ['55.8511482', '55.851524', '-4.2373179', '-4.2367468'], 'lat': '55.85130915', 'lon': '-4.236997602088167', 'display_name': \"People's Palace, Monteith Row, Calton, Glasgow, Glasgow City, Scotland, G40 1AT, United Kingdom\", 'class': 'tourism', 'type': 'museum', 'importance': 0.4298478578672752, 'icon': 'https://nominatim.openstreetmap.org/ui/mapicons//tourist_museum.p.20.png'}, {'place_id': 95472661, 'licence': 'Data © OpenStreetMap contributors, ODbL 1.0. https://osm.org/copyright', 'osm_type': 'way', 'osm_id': 26565330, 'boundingbox': ['55.8582061', '55.8591257', '-4.2957029', '-4.2933584'], 'lat': '55.85869515', 'lon': '-4.294465805627723', 'display_name': 'Glasgow Science Centre, Pacific Quay, Cessnock, Glasgow, Glasgow City, Scotland, G51 1EA, United Kingdom', 'class': 'tourism', 'type': 'museum', 'importance': 0.4277684953714004, 'icon': 'https://nominatim.openstreetmap.org/ui/mapicons//tourist_museum.p.20.png'}, {'place_id': 108275423, 'licence': 'Data © OpenStreetMap contributors, ODbL 1.0. https://osm.org/copyright', 'osm_type': 'way', 'osm_id': 82117906, 'boundingbox': ['55.8622837', '55.8624377', '-4.2370046', '-4.2368335'], 'lat': '55.862361899999996', 'lon': '-4.236924918319597', 'display_name': \"Provand's Lordship, 3, Castle Street, Townhead, Glasgow, Glasgow City, Scotland, G4 0RB, United Kingdom\", 'class': 'tourism', 'type': 'museum', 'importance': 0.41083839101118524, 'icon': 'https://nominatim.openstreetmap.org/ui/mapicons//tourist_museum.p.20.png'}, {'place_id': 125828787, 'licence': 'Data © OpenStreetMap contributors, ODbL 1.0. https://osm.org/copyright', 'osm_type': 'way', 'osm_id': 154578407, 'boundingbox': ['55.8670258', '55.8672706', '-4.2567924', '-4.2564282'], 'lat': '55.8671055', 'lon': '-4.256596589069768', 'display_name': 'National Piping Centre, 30-34, McPhater Street, Cowcaddens, Glasgow, Glasgow City, Scotland, G4 0HW, United Kingdom', 'class': 'tourism', 'type': 'museum', 'importance': 0.40753452139902735, 'icon': 'https://nominatim.openstreetmap.org/ui/mapicons//tourist_museum.p.20.png'}, {'place_id': 11335535, 'licence': 'Data © OpenStreetMap contributors, ODbL 1.0. https://osm.org/copyright', 'osm_type': 'node', 'osm_id': 1115410226, 'boundingbox': ['55.8681311', '55.8682311', '-4.2684796', '-4.2683796'], 'lat': '55.8681811', 'lon': '-4.2684296', 'display_name': 'The Tenement House, 145, Buccleuch Street, Woodside, Glasgow, Glasgow City, Scotland, G3 6QN, United Kingdom', 'class': 'tourism', 'type': 'museum', 'importance': 0.4053717591619116, 'icon': 'https://nominatim.openstreetmap.org/ui/mapicons//tourist_museum.p.20.png'}]\n",
      "[{'place_id': 94215424, 'licence': 'Data © OpenStreetMap contributors, ODbL 1.0. https://osm.org/copyright', 'osm_type': 'way', 'osm_id': 24731056, 'boundingbox': ['55.844222', '55.8516026', '-4.185849', '-4.1750682'], 'lat': '55.8480364', 'lon': '-4.180312077853816', 'display_name': 'Tollcross Park, Newbank, Glasgow, Glasgow City, Scotland, United Kingdom', 'class': 'leisure', 'type': 'park', 'importance': 0.45000000000000007}]\n",
      "[]\n",
      "[{'place_id': 95743739, 'licence': 'Data © OpenStreetMap contributors, ODbL 1.0. https://osm.org/copyright', 'osm_type': 'way', 'osm_id': 24242323, 'boundingbox': ['55.8304278', '55.8313726', '-4.3083587', '-4.3068754'], 'lat': '55.83088545', 'lon': '-4.3076364705501575', 'display_name': 'The Burrell Collection, Pollok Avenue, Pollokshaws, Glasgow, Glasgow City, Scotland, G43 1AT, United Kingdom', 'class': 'tourism', 'type': 'museum', 'importance': 0.7810167259253666, 'icon': 'https://nominatim.openstreetmap.org/ui/mapicons//tourist_museum.p.20.png'}]\n",
      "[]\n",
      "[{'place_id': 108700344, 'licence': 'Data © OpenStreetMap contributors, ODbL 1.0. https://osm.org/copyright', 'osm_type': 'way', 'osm_id': 81353579, 'boundingbox': ['55.8766684', '55.8767697', '-4.338406', '-4.337978'], 'lat': '55.876718999999994', 'lon': '-4.3381919999259635', 'display_name': 'Fossil House, A814, Whiteinch, Glasgow, Glasgow City, Scotland, G14 9QR, United Kingdom', 'class': 'building', 'type': 'yes', 'importance': 0.30100000000000005}]\n",
      "[{'place_id': 19375108, 'licence': 'Data © OpenStreetMap contributors, ODbL 1.0. https://osm.org/copyright', 'osm_type': 'node', 'osm_id': 2020205119, 'boundingbox': ['55.8650045', '55.8651045', '-4.2557664', '-4.2556664'], 'lat': '55.8650545', 'lon': '-4.2557164', 'display_name': 'Pavilion Theatre, 121, Renfrew Lane, Cowcaddens, Glasgow, Glasgow City, Scotland, G2 3AX, United Kingdom', 'class': 'amenity', 'type': 'theatre', 'importance': 0.6745321115064418, 'icon': 'https://nominatim.openstreetmap.org/ui/mapicons//tourist_theatre.p.20.png'}]\n",
      "[{'place_id': 130026151, 'licence': 'Data © OpenStreetMap contributors, ODbL 1.0. https://osm.org/copyright', 'osm_type': 'way', 'osm_id': 169765590, 'boundingbox': ['55.8486455', '55.8488456', '-4.2279323', '-4.2277177'], 'lat': '55.848778300000006', 'lon': '-4.227814876997173', 'display_name': \"Glasgow Women's Library, 23, Landressy Street, Mile-end, Glasgow, Glasgow City, Scotland, G40 1BP, United Kingdom\", 'class': 'amenity', 'type': 'library', 'importance': 0.7830818704926235, 'icon': 'https://nominatim.openstreetmap.org/ui/mapicons//amenity_library.p.20.png'}]\n",
      "[{'place_id': 124176145, 'licence': 'Data © OpenStreetMap contributors, ODbL 1.0. https://osm.org/copyright', 'osm_type': 'way', 'osm_id': 147200168, 'boundingbox': ['55.8503719', '55.8506549', '-4.2595414', '-4.2586612'], 'lat': '55.850518', 'lon': '-4.259115110188917', 'display_name': 'O2 Academy, Eglinton Court, Laurieston, Glasgow, Glasgow City, Scotland, G5 9NT, United Kingdom', 'class': 'amenity', 'type': 'music_venue', 'importance': 0.6075723342298069}]\n",
      "[]\n",
      "[]\n",
      "[]\n",
      "[{'place_id': 59927210, 'licence': 'Data © OpenStreetMap contributors, ODbL 1.0. https://osm.org/copyright', 'osm_type': 'node', 'osm_id': 5318342500, 'boundingbox': ['55.8592875', '55.8593875', '-4.2491084', '-4.2490084'], 'lat': '55.8593375', 'lon': '-4.2490584', 'display_name': 'Trades Hall of Glasgow, 85, Glassford Street, Merchant City, Glasgow, Glasgow City, Scotland, G1 1UP, United Kingdom', 'class': 'amenity', 'type': 'events_venue', 'importance': 0.511}]\n",
      "[]\n",
      "[{'place_id': 108801237, 'licence': 'Data © OpenStreetMap contributors, ODbL 1.0. https://osm.org/copyright', 'osm_type': 'way', 'osm_id': 85474432, 'boundingbox': ['55.8676962', '55.8692853', '-4.2961967', '-4.2926742'], 'lat': '55.8685321', 'lon': '-4.294295312007534', 'display_name': 'Kelvin Hall, 1445, Argyle Street, Yorkhill, Kelvinhaugh, Glasgow, Glasgow City, Scotland, G3 8AW, United Kingdom', 'class': 'tourism', 'type': 'museum', 'importance': 0.6380411950818732, 'icon': 'https://nominatim.openstreetmap.org/ui/mapicons//tourist_museum.p.20.png'}]\n",
      "[{'place_id': 158434431, 'licence': 'Data © OpenStreetMap contributors, ODbL 1.0. https://osm.org/copyright', 'osm_type': 'way', 'osm_id': 282181451, 'boundingbox': ['55.8720452', '55.8731997', '-4.2501095', '-4.2466406'], 'lat': '55.8726212', 'lon': '-4.248366024837237', 'display_name': 'Pinkston Watersports Centre, North Canal Bank Street, Pinkston, Port Dundas, Glasgow, Glasgow City, Scotland, G4 9XP, United Kingdom', 'class': 'leisure', 'type': 'sports_centre', 'importance': 0.31100000000000005, 'icon': 'https://nominatim.openstreetmap.org/ui/mapicons//sport_leisure_centre.p.20.png'}, {'place_id': 158426377, 'licence': 'Data © OpenStreetMap contributors, ODbL 1.0. https://osm.org/copyright', 'osm_type': 'way', 'osm_id': 282177544, 'boundingbox': ['55.8726641', '55.8727929', '-4.248701', '-4.2484202'], 'lat': '55.87273035', 'lon': '-4.248561308261631', 'display_name': 'Pinkston Watersports Centre, North Canal Bank Street, Pinkston, Port Dundas, Glasgow, Glasgow City, Scotland, G4 9XP, United Kingdom', 'class': 'building', 'type': 'civic', 'importance': 0.31100000000000005}]\n",
      "[{'place_id': 101545597, 'licence': 'Data © OpenStreetMap contributors, ODbL 1.0. https://osm.org/copyright', 'osm_type': 'way', 'osm_id': 42149243, 'boundingbox': ['55.8396983', '55.8406329', '-4.2685143', '-4.2673077'], 'lat': '55.8401895', 'lon': '-4.267901798852311', 'display_name': 'The Hidden Gardens, Nursery Street, Strathbungo, Glasgow, Glasgow City, Scotland, G41 2PH, United Kingdom', 'class': 'leisure', 'type': 'garden', 'importance': 0.401}]\n",
      "[{'place_id': 107738905, 'licence': 'Data © OpenStreetMap contributors, ODbL 1.0. https://osm.org/copyright', 'osm_type': 'way', 'osm_id': 78407620, 'boundingbox': ['55.8519317', '55.8526792', '-4.2526109', '-4.2506111'], 'lat': '55.85225655000001', 'lon': '-4.252160530471715', 'display_name': 'Glasgow Central Mosque, Mosque Avenue, Gorbals, Glasgow, Glasgow City, Scotland, G5 9DT, United Kingdom', 'class': 'amenity', 'type': 'place_of_worship', 'importance': 0.7239400466797944, 'icon': 'https://nominatim.openstreetmap.org/ui/mapicons//place_of_worship_unknown3.p.20.png'}]\n",
      "[{'place_id': 101210169, 'licence': 'Data © OpenStreetMap contributors, ODbL 1.0. https://osm.org/copyright', 'osm_type': 'way', 'osm_id': 42148895, 'boundingbox': ['55.8402715', '55.8411457', '-4.2681269', '-4.2659808'], 'lat': '55.8406831', 'lon': '-4.267306206813944', 'display_name': 'Tramway, 25, Albert Drive, Strathbungo, Glasgow, Glasgow City, Scotland, G41 2PE, United Kingdom', 'class': 'amenity', 'type': 'arts_centre', 'importance': 0.531409003314806, 'icon': 'https://nominatim.openstreetmap.org/ui/mapicons//tourist_art_gallery2.p.20.png'}]\n",
      "[]\n",
      "[]\n",
      "[{'place_id': 221541620, 'licence': 'Data © OpenStreetMap contributors, ODbL 1.0. https://osm.org/copyright', 'osm_type': 'way', 'osm_id': 653139034, 'boundingbox': ['55.8586923', '55.8627906', '-4.2957411', '-4.2833017'], 'lat': '55.8607136', 'lon': '-4.288043303611676', 'display_name': 'Scottish Event Campus, Stobcross, Glasgow, Glasgow City, Scotland, G3 8YW, United Kingdom', 'class': 'landuse', 'type': 'commercial', 'importance': 0.6}]\n",
      "[{'place_id': 145893, 'licence': 'Data © OpenStreetMap contributors, ODbL 1.0. https://osm.org/copyright', 'osm_type': 'node', 'osm_id': 28449296, 'boundingbox': ['55.8526091', '55.8626091', '-4.2556187', '-4.2456187'], 'lat': '55.8576091', 'lon': '-4.2506187', 'display_name': 'Argyle Street, Merchant City, Glasgow, Glasgow City, Scotland, G2 8AH, United Kingdom', 'class': 'railway', 'type': 'station', 'importance': 0.6197110336847338, 'icon': 'https://nominatim.openstreetmap.org/ui/mapicons//transport_train_station2.p.20.png'}, {'place_id': 101334967, 'licence': 'Data © OpenStreetMap contributors, ODbL 1.0. https://osm.org/copyright', 'osm_type': 'way', 'osm_id': 41863459, 'boundingbox': ['55.8592231', '55.8593991', '-4.2688451', '-4.2664581'], 'lat': '55.859325', 'lon': '-4.2680433', 'display_name': 'Argyle Street, Cranston Hill, Blythswood Holm, Glasgow, Glasgow City, Scotland, G2 8AN, United Kingdom', 'class': 'highway', 'type': 'primary', 'importance': 0.4}, {'place_id': 198866851, 'licence': 'Data © OpenStreetMap contributors, ODbL 1.0. https://osm.org/copyright', 'osm_type': 'way', 'osm_id': 491303420, 'boundingbox': ['55.8593669', '55.8593991', '-4.2698372', '-4.2688451'], 'lat': '55.8593669', 'lon': '-4.2698372', 'display_name': 'Argyle Street, Cranston Hill, Blythswood Holm, Glasgow, Glasgow City, Scotland, G3 8RR, United Kingdom', 'class': 'highway', 'type': 'primary', 'importance': 0.4}, {'place_id': 138524469, 'licence': 'Data © OpenStreetMap contributors, ODbL 1.0. https://osm.org/copyright', 'osm_type': 'way', 'osm_id': 203955671, 'boundingbox': ['55.8589969', '55.8590856', '-4.2649025', '-4.2639116'], 'lat': '55.8590099', 'lon': '-4.2640601', 'display_name': 'Argyle Street, Blythswood Holm, Glasgow, Glasgow City, Scotland, G2 8LR, United Kingdom', 'class': 'highway', 'type': 'primary', 'importance': 0.4}, {'place_id': 213821433, 'licence': 'Data © OpenStreetMap contributors, ODbL 1.0. https://osm.org/copyright', 'osm_type': 'way', 'osm_id': 595322009, 'boundingbox': ['55.8593669', '55.8594579', '-4.2705214', '-4.2698372'], 'lat': '55.8593669', 'lon': '-4.2698372', 'display_name': 'Argyle Street, Cranston Hill, Blythswood Holm, Glasgow, Glasgow City, Scotland, G3 8BH, United Kingdom', 'class': 'highway', 'type': 'primary', 'importance': 0.4}, {'place_id': 120606050, 'licence': 'Data © OpenStreetMap contributors, ODbL 1.0. https://osm.org/copyright', 'osm_type': 'way', 'osm_id': 131860123, 'boundingbox': ['55.8590856', '55.8592231', '-4.2664581', '-4.2649025'], 'lat': '55.8591403', 'lon': '-4.2654942', 'display_name': 'Argyle Street, Cranston Hill, Blythswood Holm, Glasgow, Glasgow City, Scotland, G2 8LH, United Kingdom', 'class': 'highway', 'type': 'primary', 'importance': 0.4}, {'place_id': 131952376, 'licence': 'Data © OpenStreetMap contributors, ODbL 1.0. https://osm.org/copyright', 'osm_type': 'way', 'osm_id': 176982395, 'boundingbox': ['55.8636784', '55.8663243', '-4.2893294', '-4.2808875'], 'lat': '55.8649101', 'lon': '-4.2848041', 'display_name': 'Argyle Street, Cranston Hill, Sandyford, Glasgow, Glasgow City, Scotland, G3 8LD, United Kingdom', 'class': 'highway', 'type': 'tertiary', 'importance': 0.4}, {'place_id': 103569513, 'licence': 'Data © OpenStreetMap contributors, ODbL 1.0. https://osm.org/copyright', 'osm_type': 'way', 'osm_id': 52128827, 'boundingbox': ['55.8630242', '55.8635016', '-4.2803357', '-4.27878'], 'lat': '55.863282', 'lon': '-4.2796322', 'display_name': 'Argyle Street, Cranston Hill, Sandyford, Glasgow, Glasgow City, Scotland, G3 9LU, United Kingdom', 'class': 'highway', 'type': 'tertiary', 'importance': 0.4}, {'place_id': 122504497, 'licence': 'Data © OpenStreetMap contributors, ODbL 1.0. https://osm.org/copyright', 'osm_type': 'way', 'osm_id': 139718604, 'boundingbox': ['55.8605526', '55.8618799', '-4.2750948', '-4.2712967'], 'lat': '55.8612365', 'lon': '-4.2729849', 'display_name': 'Argyle Street, Anderston, Glasgow, Glasgow City, Scotland, G3 8GT, United Kingdom', 'class': 'highway', 'type': 'residential', 'importance': 0.4}, {'place_id': 143801118, 'licence': 'Data © OpenStreetMap contributors, ODbL 1.0. https://osm.org/copyright', 'osm_type': 'way', 'osm_id': 219671015, 'boundingbox': ['55.8604702', '55.8605126', '-4.2712552', '-4.2711992'], 'lat': '55.8604702', 'lon': '-4.2712552', 'display_name': 'Argyle Street, Cranston Hill, Blythswood Holm, Glasgow, Glasgow City, Scotland, G3 8UF, United Kingdom', 'class': 'highway', 'type': 'residential', 'importance': 0.4}]\n"
     ]
    }
   ],
   "source": [
    "for location in top_100['name']:\n",
    "    address = location + ', glasgow'\n",
    "    url = 'https://nominatim.openstreetmap.org/search/' + urllib.parse.quote(address) +'?format=json'\n",
    "    response = requests.get(url).json()\n",
    "    print(response)"
   ]
  },
  {
   "cell_type": "markdown",
   "metadata": {},
   "source": [
    "Since the latitude and longitude of all locations cannot be obtained through the Open Street Map dataset, the missing part is filled in by manual query and saved as 'lat_lon.csv'"
   ]
  },
  {
   "cell_type": "code",
   "execution_count": 164,
   "metadata": {},
   "outputs": [],
   "source": [
    "lat_lon = pd.read_csv('lat_lon.csv')"
   ]
  },
  {
   "cell_type": "code",
   "execution_count": 169,
   "metadata": {},
   "outputs": [],
   "source": [
    "top_100 = pd.merge(top_100,lat_lon,on=['name'])"
   ]
  },
  {
   "cell_type": "code",
   "execution_count": 170,
   "metadata": {},
   "outputs": [
    {
     "data": {
      "text/html": [
       "<div>\n",
       "<style scoped>\n",
       "    .dataframe tbody tr th:only-of-type {\n",
       "        vertical-align: middle;\n",
       "    }\n",
       "\n",
       "    .dataframe tbody tr th {\n",
       "        vertical-align: top;\n",
       "    }\n",
       "\n",
       "    .dataframe thead th {\n",
       "        text-align: right;\n",
       "    }\n",
       "</style>\n",
       "<table border=\"1\" class=\"dataframe\">\n",
       "  <thead>\n",
       "    <tr style=\"text-align: right;\">\n",
       "      <th></th>\n",
       "      <th>number</th>\n",
       "      <th>name</th>\n",
       "      <th>image_link</th>\n",
       "      <th>score</th>\n",
       "      <th>review_volunme</th>\n",
       "      <th>detail</th>\n",
       "      <th>lat</th>\n",
       "      <th>lon</th>\n",
       "    </tr>\n",
       "  </thead>\n",
       "  <tbody>\n",
       "    <tr>\n",
       "      <th>0</th>\n",
       "      <td>1</td>\n",
       "      <td>Kelvingrove Art Gallery and Museum</td>\n",
       "      <td>https://dynamic-media-cdn.tripadvisor.com/medi...</td>\n",
       "      <td>4.5</td>\n",
       "      <td>15,299</td>\n",
       "      <td>Art Museums</td>\n",
       "      <td>55.868582</td>\n",
       "      <td>-4.290628</td>\n",
       "    </tr>\n",
       "    <tr>\n",
       "      <th>1</th>\n",
       "      <td>2</td>\n",
       "      <td>The Riverside Museum of Transport and Travel</td>\n",
       "      <td>https://dynamic-media-cdn.tripadvisor.com/medi...</td>\n",
       "      <td>4.5</td>\n",
       "      <td>9,436</td>\n",
       "      <td>Speciality MuseumsWest End</td>\n",
       "      <td>55.865175</td>\n",
       "      <td>-4.306249</td>\n",
       "    </tr>\n",
       "    <tr>\n",
       "      <th>2</th>\n",
       "      <td>3</td>\n",
       "      <td>Glengoyne Distillery</td>\n",
       "      <td>https://dynamic-media-cdn.tripadvisor.com/medi...</td>\n",
       "      <td>4.5</td>\n",
       "      <td>1,562</td>\n",
       "      <td>Distilleries</td>\n",
       "      <td>56.014053</td>\n",
       "      <td>-4.363973</td>\n",
       "    </tr>\n",
       "    <tr>\n",
       "      <th>3</th>\n",
       "      <td>4</td>\n",
       "      <td>Celtic Park</td>\n",
       "      <td>https://dynamic-media-cdn.tripadvisor.com/medi...</td>\n",
       "      <td>4.5</td>\n",
       "      <td>1,550</td>\n",
       "      <td>Arenas &amp; Stadiums</td>\n",
       "      <td>55.849758</td>\n",
       "      <td>-4.205469</td>\n",
       "    </tr>\n",
       "    <tr>\n",
       "      <th>4</th>\n",
       "      <td>5</td>\n",
       "      <td>University of Glasgow</td>\n",
       "      <td>https://dynamic-media-cdn.tripadvisor.com/medi...</td>\n",
       "      <td>4.5</td>\n",
       "      <td>1,995</td>\n",
       "      <td>Educational sitesWest End</td>\n",
       "      <td>55.872315</td>\n",
       "      <td>-4.289219</td>\n",
       "    </tr>\n",
       "  </tbody>\n",
       "</table>\n",
       "</div>"
      ],
      "text/plain": [
       "  number                                           name  \\\n",
       "0      1             Kelvingrove Art Gallery and Museum   \n",
       "1      2   The Riverside Museum of Transport and Travel   \n",
       "2      3                           Glengoyne Distillery   \n",
       "3      4                                    Celtic Park   \n",
       "4      5                          University of Glasgow   \n",
       "\n",
       "                                          image_link score review_volunme  \\\n",
       "0  https://dynamic-media-cdn.tripadvisor.com/medi...  4.5          15,299   \n",
       "1  https://dynamic-media-cdn.tripadvisor.com/medi...  4.5           9,436   \n",
       "2  https://dynamic-media-cdn.tripadvisor.com/medi...  4.5           1,562   \n",
       "3  https://dynamic-media-cdn.tripadvisor.com/medi...  4.5           1,550   \n",
       "4  https://dynamic-media-cdn.tripadvisor.com/medi...  4.5           1,995   \n",
       "\n",
       "                       detail        lat       lon  \n",
       "0                 Art Museums  55.868582 -4.290628  \n",
       "1  Speciality MuseumsWest End  55.865175 -4.306249  \n",
       "2                Distilleries  56.014053 -4.363973  \n",
       "3           Arenas & Stadiums  55.849758 -4.205469  \n",
       "4   Educational sitesWest End  55.872315 -4.289219  "
      ]
     },
     "execution_count": 170,
     "metadata": {},
     "output_type": "execute_result"
    }
   ],
   "source": [
    "top_100.head()"
   ]
  },
  {
   "cell_type": "code",
   "execution_count": 171,
   "metadata": {},
   "outputs": [],
   "source": [
    "top_100.to_csv('top100.csv')"
   ]
  },
  {
   "cell_type": "markdown",
   "metadata": {},
   "source": [
    "Get cover page iamge according to URL"
   ]
  },
  {
   "cell_type": "code",
   "execution_count": 172,
   "metadata": {},
   "outputs": [],
   "source": [
    "path = os.getcwd() + '\\\\top100image\\\\'"
   ]
  },
  {
   "cell_type": "code",
   "execution_count": 174,
   "metadata": {},
   "outputs": [
    {
     "name": "stdout",
     "output_type": "stream",
     "text": [
      "200\n",
      "200\n",
      "200\n",
      "200\n",
      "200\n",
      "200\n",
      "200\n",
      "200\n",
      "200\n",
      "200\n",
      "200\n",
      "200\n",
      "200\n",
      "200\n",
      "200\n",
      "200\n",
      "200\n",
      "200\n",
      "200\n",
      "200\n",
      "200\n",
      "200\n",
      "200\n",
      "200\n",
      "200\n",
      "200\n",
      "200\n",
      "200\n",
      "200\n",
      "200\n",
      "200\n",
      "200\n",
      "200\n",
      "200\n",
      "200\n",
      "200\n",
      "200\n",
      "200\n",
      "200\n",
      "200\n",
      "200\n",
      "200\n",
      "200\n",
      "200\n",
      "200\n",
      "200\n",
      "200\n",
      "200\n",
      "200\n",
      "200\n",
      "200\n",
      "200\n",
      "200\n",
      "200\n",
      "200\n",
      "200\n",
      "200\n",
      "200\n",
      "200\n",
      "200\n",
      "200\n",
      "200\n",
      "200\n",
      "200\n",
      "200\n",
      "200\n",
      "200\n",
      "200\n",
      "200\n",
      "200\n",
      "200\n",
      "200\n",
      "200\n",
      "200\n",
      "200\n",
      "200\n",
      "200\n",
      "200\n",
      "200\n",
      "200\n",
      "200\n",
      "200\n",
      "200\n",
      "200\n",
      "200\n",
      "200\n",
      "200\n",
      "200\n",
      "200\n",
      "200\n",
      "200\n",
      "200\n",
      "200\n",
      "200\n",
      "200\n",
      "200\n",
      "200\n",
      "200\n",
      "200\n"
     ]
    }
   ],
   "source": [
    "for i in range(len(top_100['image_link'])):\n",
    "    r = requests.request('get',top_100['image_link'][i]) \n",
    "    print(r.status_code)\n",
    "    with open(path+str(i+1)+'.jpg','wb') as f:  \n",
    "        f.write(r.content)\n",
    "    f.close()"
   ]
  }
 ],
 "metadata": {
  "kernelspec": {
   "display_name": "Python 3",
   "language": "python",
   "name": "python3"
  },
  "language_info": {
   "codemirror_mode": {
    "name": "ipython",
    "version": 3
   },
   "file_extension": ".py",
   "mimetype": "text/x-python",
   "name": "python",
   "nbconvert_exporter": "python",
   "pygments_lexer": "ipython3",
   "version": "3.8.5"
  }
 },
 "nbformat": 4,
 "nbformat_minor": 4
}
